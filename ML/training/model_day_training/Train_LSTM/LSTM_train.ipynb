{
  "nbformat": 4,
  "nbformat_minor": 0,
  "metadata": {
    "colab": {
      "provenance": []
    },
    "kernelspec": {
      "name": "python3",
      "display_name": "Python 3"
    },
    "language_info": {
      "name": "python"
    }
  },
  "cells": [
    {
      "cell_type": "markdown",
      "source": [
        "# Model Analisis dan prediksi Pengeluaran dengan LSTM"
      ],
      "metadata": {
        "id": "hFBNiRzT7EFm"
      }
    },
    {
      "cell_type": "code",
      "source": [
        "!pip install tensorflow scikit-learn pandas matplotlib seaborn\n",
        "\n",
        "import pandas as pd\n",
        "import numpy as np\n",
        "from sklearn.preprocessing import MinMaxScaler\n",
        "from sklearn.model_selection import train_test_split\n",
        "from sklearn.ensemble import RandomForestClassifier\n",
        "from sklearn.metrics import classification_report, confusion_matrix\n",
        "import matplotlib.pyplot as plt\n",
        "import seaborn as sns\n",
        "from tensorflow.keras.models import Sequential\n",
        "from tensorflow.keras.layers import LSTM, Dense\n",
        "from tensorflow.keras.callbacks import EarlyStopping\n",
        "from google.colab import userdata\n",
        "import os\n",
        "import joblib"
      ],
      "metadata": {
        "id": "igqTfVv3x8Ga",
        "colab": {
          "base_uri": "https://localhost:8080/"
        },
        "outputId": "a3a1da38-1737-4e9f-c6be-b67a1b213a0f"
      },
      "execution_count": 111,
      "outputs": [
        {
          "output_type": "stream",
          "name": "stdout",
          "text": [
            "Requirement already satisfied: tensorflow in /usr/local/lib/python3.11/dist-packages (2.18.0)\n",
            "Requirement already satisfied: scikit-learn in /usr/local/lib/python3.11/dist-packages (1.6.1)\n",
            "Requirement already satisfied: pandas in /usr/local/lib/python3.11/dist-packages (2.2.2)\n",
            "Requirement already satisfied: matplotlib in /usr/local/lib/python3.11/dist-packages (3.10.0)\n",
            "Requirement already satisfied: seaborn in /usr/local/lib/python3.11/dist-packages (0.13.2)\n",
            "Requirement already satisfied: absl-py>=1.0.0 in /usr/local/lib/python3.11/dist-packages (from tensorflow) (1.4.0)\n",
            "Requirement already satisfied: astunparse>=1.6.0 in /usr/local/lib/python3.11/dist-packages (from tensorflow) (1.6.3)\n",
            "Requirement already satisfied: flatbuffers>=24.3.25 in /usr/local/lib/python3.11/dist-packages (from tensorflow) (25.2.10)\n",
            "Requirement already satisfied: gast!=0.5.0,!=0.5.1,!=0.5.2,>=0.2.1 in /usr/local/lib/python3.11/dist-packages (from tensorflow) (0.6.0)\n",
            "Requirement already satisfied: google-pasta>=0.1.1 in /usr/local/lib/python3.11/dist-packages (from tensorflow) (0.2.0)\n",
            "Requirement already satisfied: libclang>=13.0.0 in /usr/local/lib/python3.11/dist-packages (from tensorflow) (18.1.1)\n",
            "Requirement already satisfied: opt-einsum>=2.3.2 in /usr/local/lib/python3.11/dist-packages (from tensorflow) (3.4.0)\n",
            "Requirement already satisfied: packaging in /usr/local/lib/python3.11/dist-packages (from tensorflow) (24.2)\n",
            "Requirement already satisfied: protobuf!=4.21.0,!=4.21.1,!=4.21.2,!=4.21.3,!=4.21.4,!=4.21.5,<6.0.0dev,>=3.20.3 in /usr/local/lib/python3.11/dist-packages (from tensorflow) (5.29.4)\n",
            "Requirement already satisfied: requests<3,>=2.21.0 in /usr/local/lib/python3.11/dist-packages (from tensorflow) (2.32.3)\n",
            "Requirement already satisfied: setuptools in /usr/local/lib/python3.11/dist-packages (from tensorflow) (75.2.0)\n",
            "Requirement already satisfied: six>=1.12.0 in /usr/local/lib/python3.11/dist-packages (from tensorflow) (1.17.0)\n",
            "Requirement already satisfied: termcolor>=1.1.0 in /usr/local/lib/python3.11/dist-packages (from tensorflow) (3.1.0)\n",
            "Requirement already satisfied: typing-extensions>=3.6.6 in /usr/local/lib/python3.11/dist-packages (from tensorflow) (4.13.2)\n",
            "Requirement already satisfied: wrapt>=1.11.0 in /usr/local/lib/python3.11/dist-packages (from tensorflow) (1.17.2)\n",
            "Requirement already satisfied: grpcio<2.0,>=1.24.3 in /usr/local/lib/python3.11/dist-packages (from tensorflow) (1.71.0)\n",
            "Requirement already satisfied: tensorboard<2.19,>=2.18 in /usr/local/lib/python3.11/dist-packages (from tensorflow) (2.18.0)\n",
            "Requirement already satisfied: keras>=3.5.0 in /usr/local/lib/python3.11/dist-packages (from tensorflow) (3.8.0)\n",
            "Requirement already satisfied: numpy<2.1.0,>=1.26.0 in /usr/local/lib/python3.11/dist-packages (from tensorflow) (2.0.2)\n",
            "Requirement already satisfied: h5py>=3.11.0 in /usr/local/lib/python3.11/dist-packages (from tensorflow) (3.13.0)\n",
            "Requirement already satisfied: ml-dtypes<0.5.0,>=0.4.0 in /usr/local/lib/python3.11/dist-packages (from tensorflow) (0.4.1)\n",
            "Requirement already satisfied: tensorflow-io-gcs-filesystem>=0.23.1 in /usr/local/lib/python3.11/dist-packages (from tensorflow) (0.37.1)\n",
            "Requirement already satisfied: scipy>=1.6.0 in /usr/local/lib/python3.11/dist-packages (from scikit-learn) (1.15.3)\n",
            "Requirement already satisfied: joblib>=1.2.0 in /usr/local/lib/python3.11/dist-packages (from scikit-learn) (1.5.0)\n",
            "Requirement already satisfied: threadpoolctl>=3.1.0 in /usr/local/lib/python3.11/dist-packages (from scikit-learn) (3.6.0)\n",
            "Requirement already satisfied: python-dateutil>=2.8.2 in /usr/local/lib/python3.11/dist-packages (from pandas) (2.9.0.post0)\n",
            "Requirement already satisfied: pytz>=2020.1 in /usr/local/lib/python3.11/dist-packages (from pandas) (2025.2)\n",
            "Requirement already satisfied: tzdata>=2022.7 in /usr/local/lib/python3.11/dist-packages (from pandas) (2025.2)\n",
            "Requirement already satisfied: contourpy>=1.0.1 in /usr/local/lib/python3.11/dist-packages (from matplotlib) (1.3.2)\n",
            "Requirement already satisfied: cycler>=0.10 in /usr/local/lib/python3.11/dist-packages (from matplotlib) (0.12.1)\n",
            "Requirement already satisfied: fonttools>=4.22.0 in /usr/local/lib/python3.11/dist-packages (from matplotlib) (4.58.0)\n",
            "Requirement already satisfied: kiwisolver>=1.3.1 in /usr/local/lib/python3.11/dist-packages (from matplotlib) (1.4.8)\n",
            "Requirement already satisfied: pillow>=8 in /usr/local/lib/python3.11/dist-packages (from matplotlib) (11.2.1)\n",
            "Requirement already satisfied: pyparsing>=2.3.1 in /usr/local/lib/python3.11/dist-packages (from matplotlib) (3.2.3)\n",
            "Requirement already satisfied: wheel<1.0,>=0.23.0 in /usr/local/lib/python3.11/dist-packages (from astunparse>=1.6.0->tensorflow) (0.45.1)\n",
            "Requirement already satisfied: rich in /usr/local/lib/python3.11/dist-packages (from keras>=3.5.0->tensorflow) (13.9.4)\n",
            "Requirement already satisfied: namex in /usr/local/lib/python3.11/dist-packages (from keras>=3.5.0->tensorflow) (0.0.9)\n",
            "Requirement already satisfied: optree in /usr/local/lib/python3.11/dist-packages (from keras>=3.5.0->tensorflow) (0.15.0)\n",
            "Requirement already satisfied: charset-normalizer<4,>=2 in /usr/local/lib/python3.11/dist-packages (from requests<3,>=2.21.0->tensorflow) (3.4.2)\n",
            "Requirement already satisfied: idna<4,>=2.5 in /usr/local/lib/python3.11/dist-packages (from requests<3,>=2.21.0->tensorflow) (3.10)\n",
            "Requirement already satisfied: urllib3<3,>=1.21.1 in /usr/local/lib/python3.11/dist-packages (from requests<3,>=2.21.0->tensorflow) (2.4.0)\n",
            "Requirement already satisfied: certifi>=2017.4.17 in /usr/local/lib/python3.11/dist-packages (from requests<3,>=2.21.0->tensorflow) (2025.4.26)\n",
            "Requirement already satisfied: markdown>=2.6.8 in /usr/local/lib/python3.11/dist-packages (from tensorboard<2.19,>=2.18->tensorflow) (3.8)\n",
            "Requirement already satisfied: tensorboard-data-server<0.8.0,>=0.7.0 in /usr/local/lib/python3.11/dist-packages (from tensorboard<2.19,>=2.18->tensorflow) (0.7.2)\n",
            "Requirement already satisfied: werkzeug>=1.0.1 in /usr/local/lib/python3.11/dist-packages (from tensorboard<2.19,>=2.18->tensorflow) (3.1.3)\n",
            "Requirement already satisfied: MarkupSafe>=2.1.1 in /usr/local/lib/python3.11/dist-packages (from werkzeug>=1.0.1->tensorboard<2.19,>=2.18->tensorflow) (3.0.2)\n",
            "Requirement already satisfied: markdown-it-py>=2.2.0 in /usr/local/lib/python3.11/dist-packages (from rich->keras>=3.5.0->tensorflow) (3.0.0)\n",
            "Requirement already satisfied: pygments<3.0.0,>=2.13.0 in /usr/local/lib/python3.11/dist-packages (from rich->keras>=3.5.0->tensorflow) (2.19.1)\n",
            "Requirement already satisfied: mdurl~=0.1 in /usr/local/lib/python3.11/dist-packages (from markdown-it-py>=2.2.0->rich->keras>=3.5.0->tensorflow) (0.1.2)\n"
          ]
        }
      ]
    },
    {
      "cell_type": "markdown",
      "source": [
        "## Load Data"
      ],
      "metadata": {
        "id": "E1LN6YToC1aD"
      }
    },
    {
      "cell_type": "code",
      "source": [
        "# Ambil kredensial dari Google Colab Secrets\n",
        "kaggle_username = userdata.get('kaggle_username')  # Nama pengguna\n",
        "kaggle_key = userdata.get('kaggle_key')     # Kunci API\n",
        "\n",
        "# Set variabel lingkungan untuk Kaggle\n",
        "os.environ['KAGGLE_USERNAME'] = kaggle_username\n",
        "os.environ['KAGGLE_KEY'] = kaggle_key"
      ],
      "metadata": {
        "id": "AwPnmhuOyCkq"
      },
      "execution_count": 15,
      "outputs": []
    },
    {
      "cell_type": "code",
      "source": [
        "!kaggle datasets download -d prasad22/daily-transactions-dataset\n",
        "!unzip daily-transactions-dataset.zip"
      ],
      "metadata": {
        "id": "dTjukBNdyD3D",
        "colab": {
          "base_uri": "https://localhost:8080/"
        },
        "outputId": "767a4abc-0f67-4371-ba14-ebecee2d1d2f"
      },
      "execution_count": 16,
      "outputs": [
        {
          "output_type": "stream",
          "name": "stdout",
          "text": [
            "Dataset URL: https://www.kaggle.com/datasets/prasad22/daily-transactions-dataset\n",
            "License(s): other\n",
            "daily-transactions-dataset.zip: Skipping, found more recently modified local copy (use --force to force download)\n",
            "Archive:  daily-transactions-dataset.zip\n",
            "replace Daily Household Transactions.csv? [y]es, [n]o, [A]ll, [N]one, [r]ename: y\n",
            "  inflating: Daily Household Transactions.csv  \n"
          ]
        }
      ]
    },
    {
      "cell_type": "code",
      "source": [
        "df = pd.read_csv(\"Daily Household Transactions.csv\")\n",
        "df.head()"
      ],
      "metadata": {
        "colab": {
          "base_uri": "https://localhost:8080/",
          "height": 399
        },
        "id": "nqc9XXtjBD5m",
        "outputId": "7f64ba23-e76a-4d5b-bf85-a137311c4b7f"
      },
      "execution_count": 17,
      "outputs": [
        {
          "output_type": "execute_result",
          "data": {
            "text/plain": [
              "                  Date                   Mode        Category  \\\n",
              "0  20/09/2018 12:04:08                   Cash  Transportation   \n",
              "1  20/09/2018 12:03:15                   Cash            Food   \n",
              "2           19/09/2018  Saving Bank account 1    subscription   \n",
              "3  17/09/2018 23:41:17  Saving Bank account 1    subscription   \n",
              "4  16/09/2018 17:15:08                   Cash       Festivals   \n",
              "\n",
              "               Subcategory                         Note  Amount  \\\n",
              "0                    Train         2 Place 5 to Place 0    30.0   \n",
              "1                   snacks  Idli medu Vada mix 2 plates    60.0   \n",
              "2                  Netflix         1 month subscription   199.0   \n",
              "3  Mobile Service Provider            Data booster pack    19.0   \n",
              "4             Ganesh Pujan                  Ganesh idol   251.0   \n",
              "\n",
              "  Income/Expense Currency  \n",
              "0        Expense      INR  \n",
              "1        Expense      INR  \n",
              "2        Expense      INR  \n",
              "3        Expense      INR  \n",
              "4        Expense      INR  "
            ],
            "text/html": [
              "\n",
              "  <div id=\"df-354a6bf6-7d62-408d-b078-4c55ebae85aa\" class=\"colab-df-container\">\n",
              "    <div>\n",
              "<style scoped>\n",
              "    .dataframe tbody tr th:only-of-type {\n",
              "        vertical-align: middle;\n",
              "    }\n",
              "\n",
              "    .dataframe tbody tr th {\n",
              "        vertical-align: top;\n",
              "    }\n",
              "\n",
              "    .dataframe thead th {\n",
              "        text-align: right;\n",
              "    }\n",
              "</style>\n",
              "<table border=\"1\" class=\"dataframe\">\n",
              "  <thead>\n",
              "    <tr style=\"text-align: right;\">\n",
              "      <th></th>\n",
              "      <th>Date</th>\n",
              "      <th>Mode</th>\n",
              "      <th>Category</th>\n",
              "      <th>Subcategory</th>\n",
              "      <th>Note</th>\n",
              "      <th>Amount</th>\n",
              "      <th>Income/Expense</th>\n",
              "      <th>Currency</th>\n",
              "    </tr>\n",
              "  </thead>\n",
              "  <tbody>\n",
              "    <tr>\n",
              "      <th>0</th>\n",
              "      <td>20/09/2018 12:04:08</td>\n",
              "      <td>Cash</td>\n",
              "      <td>Transportation</td>\n",
              "      <td>Train</td>\n",
              "      <td>2 Place 5 to Place 0</td>\n",
              "      <td>30.0</td>\n",
              "      <td>Expense</td>\n",
              "      <td>INR</td>\n",
              "    </tr>\n",
              "    <tr>\n",
              "      <th>1</th>\n",
              "      <td>20/09/2018 12:03:15</td>\n",
              "      <td>Cash</td>\n",
              "      <td>Food</td>\n",
              "      <td>snacks</td>\n",
              "      <td>Idli medu Vada mix 2 plates</td>\n",
              "      <td>60.0</td>\n",
              "      <td>Expense</td>\n",
              "      <td>INR</td>\n",
              "    </tr>\n",
              "    <tr>\n",
              "      <th>2</th>\n",
              "      <td>19/09/2018</td>\n",
              "      <td>Saving Bank account 1</td>\n",
              "      <td>subscription</td>\n",
              "      <td>Netflix</td>\n",
              "      <td>1 month subscription</td>\n",
              "      <td>199.0</td>\n",
              "      <td>Expense</td>\n",
              "      <td>INR</td>\n",
              "    </tr>\n",
              "    <tr>\n",
              "      <th>3</th>\n",
              "      <td>17/09/2018 23:41:17</td>\n",
              "      <td>Saving Bank account 1</td>\n",
              "      <td>subscription</td>\n",
              "      <td>Mobile Service Provider</td>\n",
              "      <td>Data booster pack</td>\n",
              "      <td>19.0</td>\n",
              "      <td>Expense</td>\n",
              "      <td>INR</td>\n",
              "    </tr>\n",
              "    <tr>\n",
              "      <th>4</th>\n",
              "      <td>16/09/2018 17:15:08</td>\n",
              "      <td>Cash</td>\n",
              "      <td>Festivals</td>\n",
              "      <td>Ganesh Pujan</td>\n",
              "      <td>Ganesh idol</td>\n",
              "      <td>251.0</td>\n",
              "      <td>Expense</td>\n",
              "      <td>INR</td>\n",
              "    </tr>\n",
              "  </tbody>\n",
              "</table>\n",
              "</div>\n",
              "    <div class=\"colab-df-buttons\">\n",
              "\n",
              "  <div class=\"colab-df-container\">\n",
              "    <button class=\"colab-df-convert\" onclick=\"convertToInteractive('df-354a6bf6-7d62-408d-b078-4c55ebae85aa')\"\n",
              "            title=\"Convert this dataframe to an interactive table.\"\n",
              "            style=\"display:none;\">\n",
              "\n",
              "  <svg xmlns=\"http://www.w3.org/2000/svg\" height=\"24px\" viewBox=\"0 -960 960 960\">\n",
              "    <path d=\"M120-120v-720h720v720H120Zm60-500h600v-160H180v160Zm220 220h160v-160H400v160Zm0 220h160v-160H400v160ZM180-400h160v-160H180v160Zm440 0h160v-160H620v160ZM180-180h160v-160H180v160Zm440 0h160v-160H620v160Z\"/>\n",
              "  </svg>\n",
              "    </button>\n",
              "\n",
              "  <style>\n",
              "    .colab-df-container {\n",
              "      display:flex;\n",
              "      gap: 12px;\n",
              "    }\n",
              "\n",
              "    .colab-df-convert {\n",
              "      background-color: #E8F0FE;\n",
              "      border: none;\n",
              "      border-radius: 50%;\n",
              "      cursor: pointer;\n",
              "      display: none;\n",
              "      fill: #1967D2;\n",
              "      height: 32px;\n",
              "      padding: 0 0 0 0;\n",
              "      width: 32px;\n",
              "    }\n",
              "\n",
              "    .colab-df-convert:hover {\n",
              "      background-color: #E2EBFA;\n",
              "      box-shadow: 0px 1px 2px rgba(60, 64, 67, 0.3), 0px 1px 3px 1px rgba(60, 64, 67, 0.15);\n",
              "      fill: #174EA6;\n",
              "    }\n",
              "\n",
              "    .colab-df-buttons div {\n",
              "      margin-bottom: 4px;\n",
              "    }\n",
              "\n",
              "    [theme=dark] .colab-df-convert {\n",
              "      background-color: #3B4455;\n",
              "      fill: #D2E3FC;\n",
              "    }\n",
              "\n",
              "    [theme=dark] .colab-df-convert:hover {\n",
              "      background-color: #434B5C;\n",
              "      box-shadow: 0px 1px 3px 1px rgba(0, 0, 0, 0.15);\n",
              "      filter: drop-shadow(0px 1px 2px rgba(0, 0, 0, 0.3));\n",
              "      fill: #FFFFFF;\n",
              "    }\n",
              "  </style>\n",
              "\n",
              "    <script>\n",
              "      const buttonEl =\n",
              "        document.querySelector('#df-354a6bf6-7d62-408d-b078-4c55ebae85aa button.colab-df-convert');\n",
              "      buttonEl.style.display =\n",
              "        google.colab.kernel.accessAllowed ? 'block' : 'none';\n",
              "\n",
              "      async function convertToInteractive(key) {\n",
              "        const element = document.querySelector('#df-354a6bf6-7d62-408d-b078-4c55ebae85aa');\n",
              "        const dataTable =\n",
              "          await google.colab.kernel.invokeFunction('convertToInteractive',\n",
              "                                                    [key], {});\n",
              "        if (!dataTable) return;\n",
              "\n",
              "        const docLinkHtml = 'Like what you see? Visit the ' +\n",
              "          '<a target=\"_blank\" href=https://colab.research.google.com/notebooks/data_table.ipynb>data table notebook</a>'\n",
              "          + ' to learn more about interactive tables.';\n",
              "        element.innerHTML = '';\n",
              "        dataTable['output_type'] = 'display_data';\n",
              "        await google.colab.output.renderOutput(dataTable, element);\n",
              "        const docLink = document.createElement('div');\n",
              "        docLink.innerHTML = docLinkHtml;\n",
              "        element.appendChild(docLink);\n",
              "      }\n",
              "    </script>\n",
              "  </div>\n",
              "\n",
              "\n",
              "    <div id=\"df-38b6a78d-97c3-4825-8c88-f5cb930e757f\">\n",
              "      <button class=\"colab-df-quickchart\" onclick=\"quickchart('df-38b6a78d-97c3-4825-8c88-f5cb930e757f')\"\n",
              "                title=\"Suggest charts\"\n",
              "                style=\"display:none;\">\n",
              "\n",
              "<svg xmlns=\"http://www.w3.org/2000/svg\" height=\"24px\"viewBox=\"0 0 24 24\"\n",
              "     width=\"24px\">\n",
              "    <g>\n",
              "        <path d=\"M19 3H5c-1.1 0-2 .9-2 2v14c0 1.1.9 2 2 2h14c1.1 0 2-.9 2-2V5c0-1.1-.9-2-2-2zM9 17H7v-7h2v7zm4 0h-2V7h2v10zm4 0h-2v-4h2v4z\"/>\n",
              "    </g>\n",
              "</svg>\n",
              "      </button>\n",
              "\n",
              "<style>\n",
              "  .colab-df-quickchart {\n",
              "      --bg-color: #E8F0FE;\n",
              "      --fill-color: #1967D2;\n",
              "      --hover-bg-color: #E2EBFA;\n",
              "      --hover-fill-color: #174EA6;\n",
              "      --disabled-fill-color: #AAA;\n",
              "      --disabled-bg-color: #DDD;\n",
              "  }\n",
              "\n",
              "  [theme=dark] .colab-df-quickchart {\n",
              "      --bg-color: #3B4455;\n",
              "      --fill-color: #D2E3FC;\n",
              "      --hover-bg-color: #434B5C;\n",
              "      --hover-fill-color: #FFFFFF;\n",
              "      --disabled-bg-color: #3B4455;\n",
              "      --disabled-fill-color: #666;\n",
              "  }\n",
              "\n",
              "  .colab-df-quickchart {\n",
              "    background-color: var(--bg-color);\n",
              "    border: none;\n",
              "    border-radius: 50%;\n",
              "    cursor: pointer;\n",
              "    display: none;\n",
              "    fill: var(--fill-color);\n",
              "    height: 32px;\n",
              "    padding: 0;\n",
              "    width: 32px;\n",
              "  }\n",
              "\n",
              "  .colab-df-quickchart:hover {\n",
              "    background-color: var(--hover-bg-color);\n",
              "    box-shadow: 0 1px 2px rgba(60, 64, 67, 0.3), 0 1px 3px 1px rgba(60, 64, 67, 0.15);\n",
              "    fill: var(--button-hover-fill-color);\n",
              "  }\n",
              "\n",
              "  .colab-df-quickchart-complete:disabled,\n",
              "  .colab-df-quickchart-complete:disabled:hover {\n",
              "    background-color: var(--disabled-bg-color);\n",
              "    fill: var(--disabled-fill-color);\n",
              "    box-shadow: none;\n",
              "  }\n",
              "\n",
              "  .colab-df-spinner {\n",
              "    border: 2px solid var(--fill-color);\n",
              "    border-color: transparent;\n",
              "    border-bottom-color: var(--fill-color);\n",
              "    animation:\n",
              "      spin 1s steps(1) infinite;\n",
              "  }\n",
              "\n",
              "  @keyframes spin {\n",
              "    0% {\n",
              "      border-color: transparent;\n",
              "      border-bottom-color: var(--fill-color);\n",
              "      border-left-color: var(--fill-color);\n",
              "    }\n",
              "    20% {\n",
              "      border-color: transparent;\n",
              "      border-left-color: var(--fill-color);\n",
              "      border-top-color: var(--fill-color);\n",
              "    }\n",
              "    30% {\n",
              "      border-color: transparent;\n",
              "      border-left-color: var(--fill-color);\n",
              "      border-top-color: var(--fill-color);\n",
              "      border-right-color: var(--fill-color);\n",
              "    }\n",
              "    40% {\n",
              "      border-color: transparent;\n",
              "      border-right-color: var(--fill-color);\n",
              "      border-top-color: var(--fill-color);\n",
              "    }\n",
              "    60% {\n",
              "      border-color: transparent;\n",
              "      border-right-color: var(--fill-color);\n",
              "    }\n",
              "    80% {\n",
              "      border-color: transparent;\n",
              "      border-right-color: var(--fill-color);\n",
              "      border-bottom-color: var(--fill-color);\n",
              "    }\n",
              "    90% {\n",
              "      border-color: transparent;\n",
              "      border-bottom-color: var(--fill-color);\n",
              "    }\n",
              "  }\n",
              "</style>\n",
              "\n",
              "      <script>\n",
              "        async function quickchart(key) {\n",
              "          const quickchartButtonEl =\n",
              "            document.querySelector('#' + key + ' button');\n",
              "          quickchartButtonEl.disabled = true;  // To prevent multiple clicks.\n",
              "          quickchartButtonEl.classList.add('colab-df-spinner');\n",
              "          try {\n",
              "            const charts = await google.colab.kernel.invokeFunction(\n",
              "                'suggestCharts', [key], {});\n",
              "          } catch (error) {\n",
              "            console.error('Error during call to suggestCharts:', error);\n",
              "          }\n",
              "          quickchartButtonEl.classList.remove('colab-df-spinner');\n",
              "          quickchartButtonEl.classList.add('colab-df-quickchart-complete');\n",
              "        }\n",
              "        (() => {\n",
              "          let quickchartButtonEl =\n",
              "            document.querySelector('#df-38b6a78d-97c3-4825-8c88-f5cb930e757f button');\n",
              "          quickchartButtonEl.style.display =\n",
              "            google.colab.kernel.accessAllowed ? 'block' : 'none';\n",
              "        })();\n",
              "      </script>\n",
              "    </div>\n",
              "\n",
              "    </div>\n",
              "  </div>\n"
            ],
            "application/vnd.google.colaboratory.intrinsic+json": {
              "type": "dataframe",
              "variable_name": "df",
              "summary": "{\n  \"name\": \"df\",\n  \"rows\": 2461,\n  \"fields\": [\n    {\n      \"column\": \"Date\",\n      \"properties\": {\n        \"dtype\": \"string\",\n        \"num_unique_values\": 1611,\n        \"samples\": [\n          \"28/08/2018 19:16:09\",\n          \"16/04/2018 20:55:46\",\n          \"15/02/2018 19:46:43\"\n        ],\n        \"semantic_type\": \"\",\n        \"description\": \"\"\n      }\n    },\n    {\n      \"column\": \"Mode\",\n      \"properties\": {\n        \"dtype\": \"category\",\n        \"num_unique_values\": 12,\n        \"samples\": [\n          \"Fixed Deposit\",\n          \"Equity Mutual Fund D\",\n          \"Cash\"\n        ],\n        \"semantic_type\": \"\",\n        \"description\": \"\"\n      }\n    },\n    {\n      \"column\": \"Category\",\n      \"properties\": {\n        \"dtype\": \"category\",\n        \"num_unique_values\": 50,\n        \"samples\": [\n          \"Salary\",\n          \"Recurring Deposit\",\n          \"Petty cash\"\n        ],\n        \"semantic_type\": \"\",\n        \"description\": \"\"\n      }\n    },\n    {\n      \"column\": \"Subcategory\",\n      \"properties\": {\n        \"dtype\": \"category\",\n        \"num_unique_values\": 90,\n        \"samples\": [\n          \"Hardware\",\n          \"Tea\",\n          \"Stationary\"\n        ],\n        \"semantic_type\": \"\",\n        \"description\": \"\"\n      }\n    },\n    {\n      \"column\": \"Note\",\n      \"properties\": {\n        \"dtype\": \"category\",\n        \"num_unique_values\": 1057,\n        \"samples\": [\n          \"Chitale Srikhand\",\n          \"Mutual fund B\",\n          \"agarbatti + icecream pack\"\n        ],\n        \"semantic_type\": \"\",\n        \"description\": \"\"\n      }\n    },\n    {\n      \"column\": \"Amount\",\n      \"properties\": {\n        \"dtype\": \"number\",\n        \"std\": 12519.61580435605,\n        \"min\": 2.0,\n        \"max\": 250000.0,\n        \"num_unique_values\": 550,\n        \"samples\": [\n          73.0,\n          1358.0,\n          15000.0\n        ],\n        \"semantic_type\": \"\",\n        \"description\": \"\"\n      }\n    },\n    {\n      \"column\": \"Income/Expense\",\n      \"properties\": {\n        \"dtype\": \"category\",\n        \"num_unique_values\": 3,\n        \"samples\": [\n          \"Expense\",\n          \"Transfer-Out\",\n          \"Income\"\n        ],\n        \"semantic_type\": \"\",\n        \"description\": \"\"\n      }\n    },\n    {\n      \"column\": \"Currency\",\n      \"properties\": {\n        \"dtype\": \"category\",\n        \"num_unique_values\": 1,\n        \"samples\": [\n          \"INR\"\n        ],\n        \"semantic_type\": \"\",\n        \"description\": \"\"\n      }\n    }\n  ]\n}"
            }
          },
          "metadata": {},
          "execution_count": 17
        }
      ]
    },
    {
      "cell_type": "markdown",
      "source": [
        "## Preprocessing"
      ],
      "metadata": {
        "id": "SvzFBP5alhyj"
      }
    },
    {
      "cell_type": "code",
      "source": [
        "# Load and clean data\n",
        "def load_and_clean(filepath):\n",
        "    df = pd.read_csv(filepath)\n",
        "    df.columns = df.columns.str.strip().str.lower().str.replace(\" \", \"_\")\n",
        "    df['date'] = pd.to_datetime(df['date'], errors='coerce', dayfirst=True)\n",
        "    df = df.dropna(subset=['date', 'amount', 'income/expense'])\n",
        "    df['amount'] = pd.to_numeric(df['amount'], errors='coerce')\n",
        "    df = df[df['income/expense'].str.lower() == 'expense']\n",
        "    if df['currency'].nunique() == 1:\n",
        "        df = df.drop(columns='currency')\n",
        "    df = df.sort_values('date').reset_index(drop=True)\n",
        "    return df\n",
        ""
      ],
      "metadata": {
        "id": "9wE1yaMZlHNQ"
      },
      "execution_count": 68,
      "outputs": []
    },
    {
      "cell_type": "code",
      "source": [
        "# Agregate daily expense\n",
        "\n",
        "def aggregate_daily_expense(df):\n",
        "    df_daily = df.groupby(df['date'].dt.date)['amount'].sum().reset_index()\n",
        "    df_daily.columns = ['date', 'total_expense']\n",
        "    df_daily['date'] = pd.to_datetime(df_daily['date'])\n",
        "    return df_daily"
      ],
      "metadata": {
        "id": "dCfKHxyRwaoc"
      },
      "execution_count": 71,
      "outputs": []
    },
    {
      "cell_type": "code",
      "source": [
        "# Feature engineering\n",
        "\n",
        "def normalize_series(series):\n",
        "    from sklearn.preprocessing import MinMaxScaler\n",
        "    scaler = MinMaxScaler()\n",
        "    scaled = scaler.fit_transform(series.values.reshape(-1, 1))\n",
        "    return scaled.flatten(), scaler\n",
        "\n",
        "def create_lstm_sequences(data, window_size=7):\n",
        "    X, y = [], []\n",
        "    for i in range(len(data) - window_size):\n",
        "        X.append(data[i:i+window_size])\n",
        "        y.append(data[i+window_size])\n",
        "    return np.array(X), np.array(y)"
      ],
      "metadata": {
        "id": "-eFtCcDulHuf"
      },
      "execution_count": 72,
      "outputs": []
    },
    {
      "cell_type": "code",
      "source": [
        "# Feature Engineering Tambahan\n",
        "def add_additional_features(df_daily):\n",
        "    df = df_daily.copy()\n",
        "    df['date'] = pd.to_datetime(df['date'])\n",
        "    df = df.sort_values('date').reset_index(drop=True)\n",
        "    df['rolling_7d_mean'] = df['total_expense'].rolling(window=7, min_periods=1).mean()\n",
        "    df['weekly_expense'] = df['total_expense'].rolling(window=7, min_periods=1).sum().shift(7)\n",
        "    df['weekly_expense_change_pct'] = (\n",
        "        (df['total_expense'].rolling(window=7, min_periods=1).sum() - df['weekly_expense'])\n",
        "        / (df['weekly_expense'] + 1e-6)\n",
        "    )\n",
        "    df['weekday'] = df['date'].dt.weekday\n",
        "    df['is_weekend'] = df['weekday'].isin([5, 6]).astype(int)\n",
        "    df = df.dropna().reset_index(drop=True)\n",
        "    return df"
      ],
      "metadata": {
        "id": "ZYZKTIl7tATm"
      },
      "execution_count": 73,
      "outputs": []
    },
    {
      "cell_type": "code",
      "source": [
        "# Normalisasi & Buat Sequences untuk LSTM\n",
        "def normalize_series(series):\n",
        "    scaler = MinMaxScaler()\n",
        "    scaled = scaler.fit_transform(series.values.reshape(-1, 1))\n",
        "    return scaled.flatten(), scaler\n",
        "\n",
        "def create_lstm_sequences(data, window_size=7):\n",
        "    X, y = [], []\n",
        "    for i in range(len(data) - window_size):\n",
        "        X.append(data[i:i+window_size])\n",
        "        y.append(data[i+window_size])\n",
        "    return np.array(X), np.array(y)"
      ],
      "metadata": {
        "id": "Ir4YjwFhxdtu"
      },
      "execution_count": 74,
      "outputs": []
    },
    {
      "cell_type": "markdown",
      "source": [
        "## Modelling LSTM"
      ],
      "metadata": {
        "id": "LFLByqjOl9Jv"
      }
    },
    {
      "cell_type": "code",
      "source": [
        "# Modelling Prediksi\n",
        "\n",
        "def build_lstm_model(input_shape):\n",
        "    model = Sequential()\n",
        "    model.add(LSTM(64, input_shape=input_shape))\n",
        "    model.add(Dense(1))\n",
        "    model.compile(optimizer='adam', loss='mse')\n",
        "    return model\n",
        "\n",
        "def train_lstm_model(X_train, y_train, X_val, y_val, epochs=50):\n",
        "    model = build_lstm_model(input_shape=(X_train.shape[1], X_train.shape[2]))\n",
        "    early_stop = EarlyStopping(monitor='val_loss', patience=5, restore_best_weights=True)\n",
        "    model.fit(X_train, y_train, validation_data=(X_val, y_val),\n",
        "              epochs=epochs, callbacks=[early_stop], verbose=1)\n",
        "    return model"
      ],
      "metadata": {
        "id": "vBYMAsd7ltNp"
      },
      "execution_count": 75,
      "outputs": []
    },
    {
      "cell_type": "code",
      "source": [
        "# Generate Dataset Klasifikasi Boros/Hemat/Normal dengan Fitur Tambahan\n",
        "def generate_classification_data(df_daily, y_pred_rescaled, y_actual_rescaled, threshold=0.35):\n",
        "    \"\"\"\n",
        "    Menghasilkan DataFrame untuk training classifier.\n",
        "    Masukkan fitur tambahan dari df_daily dan label berdasarkan threshold perbedaan prediksi dan aktual.\n",
        "    \"\"\"\n",
        "    data = []\n",
        "    for i in range(len(y_pred_rescaled)):\n",
        "        pred = y_pred_rescaled[i]\n",
        "        actual = y_actual_rescaled[i]\n",
        "        diff = actual - pred\n",
        "        pct = diff / pred if pred != 0 else 0\n",
        "\n",
        "        if pct > threshold:\n",
        "            label = 'Boros'\n",
        "        elif pct < -threshold:\n",
        "            label = 'Hemat'\n",
        "        else:\n",
        "            label = 'Normal'\n",
        "\n",
        "        # Ambil fitur tambahan sesuai index offset window_size\n",
        "        idx = i + 7  # offset window size, sesuaikan jika beda\n",
        "\n",
        "        row = {\n",
        "            'predicted_expense': pred,\n",
        "            'actual_expense': actual,\n",
        "            'diff': diff,\n",
        "            'pct_diff': pct,\n",
        "            'rolling_7d_mean': df_daily.loc[idx, 'rolling_7d_mean'],\n",
        "            'weekly_expense': df_daily.loc[idx, 'weekly_expense'],\n",
        "            'weekly_expense_change_pct': df_daily.loc[idx, 'weekly_expense_change_pct'],\n",
        "            'weekday': df_daily.loc[idx, 'weekday'],\n",
        "            'is_weekend': df_daily.loc[idx, 'is_weekend'],\n",
        "            'label': label\n",
        "        }\n",
        "        data.append(row)\n",
        "\n",
        "    df_cls = pd.DataFrame(data)\n",
        "    return df_cls"
      ],
      "metadata": {
        "id": "AkPMJ4qZxnj6"
      },
      "execution_count": 107,
      "outputs": []
    },
    {
      "cell_type": "code",
      "source": [
        "# Modelling klasifikasi\n",
        "\n",
        "def train_classifier(df_cls):\n",
        "    feature_cols = ['predicted_expense', 'actual_expense', 'diff', 'pct_diff',\n",
        "                    'rolling_7d_mean', 'weekly_expense', 'weekly_expense_change_pct',\n",
        "                    'weekday', 'is_weekend']\n",
        "    X = df_cls[feature_cols]\n",
        "    y = df_cls['label']\n",
        "\n",
        "    X_train, X_val, y_train, y_val = train_test_split(X, y, test_size=0.2, random_state=42, stratify=y)\n",
        "\n",
        "    clf = RandomForestClassifier(random_state=42)\n",
        "    clf.fit(X_train, y_train)\n",
        "\n",
        "    y_pred = clf.predict(X_val)\n",
        "\n",
        "    print(\"Classification Report:\")\n",
        "    print(classification_report(y_val, y_pred))\n",
        "\n",
        "    return clf, X_val, y_val, y_pred"
      ],
      "metadata": {
        "id": "Fm57fKbUmPIk"
      },
      "execution_count": 108,
      "outputs": []
    },
    {
      "cell_type": "code",
      "source": [
        "# Evaluasi Model Klasifikasi dengan Confusion Matrix dan Report\n",
        "def evaluate_classification_model(y_true, y_pred, labels=None):\n",
        "    print(\"Classification Model Evaluation:\")\n",
        "    print(classification_report(y_true, y_pred, labels=labels))\n",
        "    cm = confusion_matrix(y_true, y_pred, labels=labels)\n",
        "    plt.figure(figsize=(6,5))\n",
        "    sns.heatmap(cm, annot=True, fmt='d', cmap='Blues', xticklabels=labels, yticklabels=labels)\n",
        "    plt.xlabel('Predicted')\n",
        "    plt.ylabel('Actual')\n",
        "    plt.title('Confusion Matrix')\n",
        "    plt.show()\n",
        "    return cm"
      ],
      "metadata": {
        "id": "2cDpHztAq1Vp"
      },
      "execution_count": 109,
      "outputs": []
    },
    {
      "cell_type": "code",
      "source": [
        "# Prediksi Minggu Depan & Bandingkan Tren Mingguan\n",
        "\n",
        "from datetime import timedelta\n",
        "\n",
        "def predict_next_week_expense(daily_df, model, scaler, window_size=7):\n",
        "    recent_expense = daily_df['total_expense'].values[-window_size:]\n",
        "    normalized_input = scaler.transform(recent_expense.reshape(-1, 1)).flatten()\n",
        "\n",
        "    predictions = []\n",
        "    current_input = normalized_input.copy()\n",
        "\n",
        "    for _ in range(7):  # prediksi 7 hari\n",
        "        input_seq = np.array(current_input[-window_size:]).reshape((1, window_size, 1))\n",
        "        next_pred = model.predict(input_seq, verbose=0)[0][0]\n",
        "        predictions.append(next_pred)\n",
        "        current_input = np.append(current_input, next_pred)\n",
        "\n",
        "    predictions_rescaled = scaler.inverse_transform(np.array(predictions).reshape(-1, 1)).flatten()\n",
        "    last_date = daily_df['date'].max()\n",
        "    pred_dates = [last_date + timedelta(days=i+1) for i in range(7)]\n",
        "\n",
        "    return pd.DataFrame({\n",
        "        'date': pred_dates,\n",
        "        'predicted_expense': predictions_rescaled\n",
        "    })\n",
        "\n",
        "\n",
        "def compare_weekly_trend(daily_df, pred_df, threshold=0.35):\n",
        "    last_week_actual = daily_df.tail(7).reset_index(drop=True)\n",
        "    this_week_pred = pred_df.reset_index(drop=True)\n",
        "\n",
        "    actual_total = last_week_actual['total_expense'].sum()\n",
        "    predicted_total = this_week_pred['predicted_expense'].sum()\n",
        "\n",
        "    diff = predicted_total - actual_total\n",
        "    pct_change = diff / actual_total if actual_total else 0\n",
        "\n",
        "    if pct_change > threshold:\n",
        "        summary = f\"⚠️ Minggu ini diperkirakan boros ({pct_change:.1%} lebih tinggi dari minggu lalu).\"\n",
        "        label = 'Boros'\n",
        "    elif pct_change < -threshold:\n",
        "        summary = f\"✅ Minggu ini diperkirakan lebih hemat ({abs(pct_change):.1%} lebih rendah dari minggu lalu).\"\n",
        "        label = 'Hemat'\n",
        "    else:\n",
        "        summary = f\"🔄 Minggu ini diperkirakan normal (selisih {pct_change:.1%} dari minggu lalu).\"\n",
        "        label = 'Normal'\n",
        "\n",
        "    breakdown = []\n",
        "    for i in range(7):\n",
        "        actual = last_week_actual['total_expense'].iloc[i] if i < len(last_week_actual) else 0\n",
        "        pred = this_week_pred['predicted_expense'].iloc[i]\n",
        "        change = (pred - actual) / actual if actual != 0 else 0\n",
        "        hari = this_week_pred['date'].iloc[i].strftime(\"%A\")\n",
        "        sign = \"lebih banyak\" if change > 0 else \"lebih hemat\" if change < 0 else \"sama\"\n",
        "        breakdown.append(f\"{hari}: {abs(change):.1%} {sign} dari minggu lalu.\")\n",
        "\n",
        "    return summary, breakdown, {\n",
        "        \"last_week\": last_week_actual,\n",
        "        \"predicted\": this_week_pred,\n",
        "        \"label\": label,\n",
        "        \"pct_change\": pct_change\n",
        "    }\n",
        "\n",
        "# Eksekusi prediksi dan evaluasi tren\n",
        "pred_df = predict_next_week_expense(daily_df, lstm_model, scaler)\n",
        "summary, breakdown, trend_info = compare_weekly_trend(daily_df, pred_df)\n",
        "\n",
        "# Tampilkan hasil\n",
        "print(summary)\n",
        "for line in breakdown:\n",
        "    print(\"-\", line)\n"
      ],
      "metadata": {
        "colab": {
          "base_uri": "https://localhost:8080/"
        },
        "id": "Xh6v8cScof2Q",
        "outputId": "0d3d978f-223b-445a-c191-c76e8d5895c0"
      },
      "execution_count": 110,
      "outputs": [
        {
          "output_type": "stream",
          "name": "stdout",
          "text": [
            "⚠️ Minggu ini diperkirakan boros (282.9% lebih tinggi dari minggu lalu).\n",
            "- Friday: 16.7% lebih hemat dari minggu lalu.\n",
            "- Saturday: 732.3% lebih banyak dari minggu lalu.\n",
            "- Sunday: 2657.9% lebih banyak dari minggu lalu.\n",
            "- Monday: 571.3% lebih banyak dari minggu lalu.\n",
            "- Tuesday: 421.7% lebih banyak dari minggu lalu.\n",
            "- Wednesday: 6639.1% lebih banyak dari minggu lalu.\n",
            "- Thursday: 1291.6% lebih banyak dari minggu lalu.\n"
          ]
        }
      ]
    },
    {
      "cell_type": "markdown",
      "source": [
        "## Training"
      ],
      "metadata": {
        "id": "Owb-5Ki-pEEC"
      }
    },
    {
      "cell_type": "code",
      "source": [
        "from sklearn.ensemble import RandomForestClassifier\n",
        "from sklearn.metrics import classification_report, confusion_matrix\n",
        "from sklearn.model_selection import train_test_split\n",
        "import matplotlib.pyplot as plt\n",
        "import seaborn as sns\n",
        "from tensorflow.keras.models import Sequential\n",
        "from tensorflow.keras.layers import LSTM, Dense, Dropout\n",
        "from tensorflow.keras.optimizers import Adam\n",
        "from datetime import timedelta"
      ],
      "metadata": {
        "id": "LMC8Nrig0M0e"
      },
      "execution_count": 97,
      "outputs": []
    },
    {
      "cell_type": "code",
      "source": [
        "# Load & preprocessing\n",
        "df = load_and_clean(\"Daily Household Transactions.csv\")\n",
        "daily_df = aggregate_daily_expense(df)\n",
        "daily_df = add_additional_features(daily_df)\n",
        "\n",
        "# Normalisasi dan buat sequence untuk LSTM (gunakan 'total_expense')\n",
        "normalized, scaler = normalize_series(daily_df['total_expense'])\n",
        "daily_df['normalized_expense'] = normalized  # <- ini penting untuk input ke LSTM\n"
      ],
      "metadata": {
        "id": "sFET4p5Zmtxn"
      },
      "execution_count": 98,
      "outputs": []
    },
    {
      "cell_type": "code",
      "source": [
        "# Train-Test Split untuk LSTM\n",
        "X_lstm, y_lstm = create_lstm_sequences(daily_df['normalized_expense'].values, window_size=7)\n",
        "X_lstm = X_lstm.reshape((X_lstm.shape[0], X_lstm.shape[1], 1))\n",
        "X_train_lstm, X_test_lstm, y_train_lstm, y_test_lstm = train_test_split(X_lstm, y_lstm, test_size=0.2, random_state=42)\n"
      ],
      "metadata": {
        "id": "mygNMsMjm0bS"
      },
      "execution_count": 99,
      "outputs": []
    },
    {
      "cell_type": "code",
      "source": [
        "# Train LSTM\n",
        "lstm_model = Sequential([\n",
        "    LSTM(64, return_sequences=False, input_shape=(X_lstm.shape[1], 1)),\n",
        "    Dropout(0.2),\n",
        "    Dense(1)\n",
        "])\n",
        "lstm_model.compile(optimizer=Adam(learning_rate=0.001), loss='mse')\n",
        "lstm_model.fit(X_train_lstm, y_train_lstm, epochs=30, batch_size=16, validation_data=(X_test_lstm, y_test_lstm), verbose=0)\n",
        "\n",
        "# LSTM Evaluation\n",
        "y_pred_lstm = lstm_model.predict(X_test_lstm).flatten()\n",
        "y_test_inverse = scaler.inverse_transform(y_test_lstm.reshape(-1, 1)).flatten()\n",
        "y_pred_inverse = scaler.inverse_transform(y_pred_lstm.reshape(-1, 1)).flatten()"
      ],
      "metadata": {
        "colab": {
          "base_uri": "https://localhost:8080/"
        },
        "id": "EdM2JM5HzkNs",
        "outputId": "9eb44b9f-8ee6-4978-8833-811be4da6f0a"
      },
      "execution_count": 100,
      "outputs": [
        {
          "output_type": "stream",
          "name": "stderr",
          "text": [
            "/usr/local/lib/python3.11/dist-packages/keras/src/layers/rnn/rnn.py:200: UserWarning: Do not pass an `input_shape`/`input_dim` argument to a layer. When using Sequential models, prefer using an `Input(shape)` object as the first layer in the model instead.\n",
            "  super().__init__(**kwargs)\n"
          ]
        },
        {
          "output_type": "stream",
          "name": "stdout",
          "text": [
            "\u001b[1m3/3\u001b[0m \u001b[32m━━━━━━━━━━━━━━━━━━━━\u001b[0m\u001b[37m\u001b[0m \u001b[1m0s\u001b[0m 108ms/step\n"
          ]
        }
      ]
    },
    {
      "cell_type": "code",
      "source": [
        "# Evaluasi\n",
        "print(\"📈 Evaluation: LSTM Regression Model\")\n",
        "print(\"MAE :\", mean_absolute_error(y_test_inverse, y_pred_inverse))\n",
        "print(\"MSE :\", mean_squared_error(y_test_inverse, y_pred_inverse))\n",
        "print(\"RMSE:\", np.sqrt(mean_squared_error(y_test_inverse, y_pred_inverse)))  # Ganti baris ini\n",
        "print(\"R2  :\", r2_score(y_test_inverse, y_pred_inverse))"
      ],
      "metadata": {
        "colab": {
          "base_uri": "https://localhost:8080/"
        },
        "id": "BxNO1Xt7pJ1a",
        "outputId": "30747020-47fb-4a93-c55b-f78dbb792130"
      },
      "execution_count": 104,
      "outputs": [
        {
          "output_type": "stream",
          "name": "stdout",
          "text": [
            "📈 Evaluation: LSTM Regression Model\n",
            "MAE : 1526.7351275651351\n",
            "MSE : 16634165.958368512\n",
            "RMSE: 4078.500454624041\n",
            "R2  : 0.004216586152048896\n"
          ]
        }
      ]
    },
    {
      "cell_type": "code",
      "source": [
        "# Prediksi & Evaluasi Tren Minggu Depan\n",
        "pred_week_df = predict_next_week_expense(daily_df, lstm_model, scaler)\n",
        "summary_text, breakdown_list, result_dict = compare_weekly_trend(daily_df, pred_week_df)\n",
        "\n",
        "print(\"\\n📊 Prediksi Minggu Depan:\")\n",
        "print(summary_text)\n",
        "for line in breakdown_list:\n",
        "    print(\"•\", line)\n"
      ],
      "metadata": {
        "colab": {
          "base_uri": "https://localhost:8080/"
        },
        "id": "ML5U4rY9pMUv",
        "outputId": "35fdc6ca-92c5-4faf-cd8c-fefc65e34d24"
      },
      "execution_count": 105,
      "outputs": [
        {
          "output_type": "stream",
          "name": "stdout",
          "text": [
            "\n",
            "📊 Prediksi Minggu Depan:\n",
            "⚠️ Minggu ini diperkirakan boros (282.9% lebih tinggi dari minggu lalu).\n",
            "• Friday: 16.7% lebih hemat dari minggu lalu.\n",
            "• Saturday: 732.3% lebih banyak dari minggu lalu.\n",
            "• Sunday: 2657.9% lebih banyak dari minggu lalu.\n",
            "• Monday: 571.3% lebih banyak dari minggu lalu.\n",
            "• Tuesday: 421.7% lebih banyak dari minggu lalu.\n",
            "• Wednesday: 6639.1% lebih banyak dari minggu lalu.\n",
            "• Thursday: 1291.6% lebih banyak dari minggu lalu.\n"
          ]
        }
      ]
    },
    {
      "cell_type": "markdown",
      "source": [
        "# Save Model"
      ],
      "metadata": {
        "id": "xAiKDqO84_uc"
      }
    },
    {
      "cell_type": "code",
      "source": [
        "model_dict = {\n",
        "    'regression': lstm_model,\n",
        "    'classification': clf,\n",
        "    'scaler': scaler\n",
        "}\n",
        "\n",
        "joblib.dump(model_dict, 'model_day_LSTM.pkl')\n",
        "print(\"Model disimpan ke file model_day.pkl\")"
      ],
      "metadata": {
        "colab": {
          "base_uri": "https://localhost:8080/"
        },
        "id": "PTh39m3s4-BS",
        "outputId": "bf1fb36f-678c-4eb0-e573-5822d30bb437"
      },
      "execution_count": 118,
      "outputs": [
        {
          "output_type": "stream",
          "name": "stdout",
          "text": [
            "Model disimpan ke file model_day.pkl\n"
          ]
        }
      ]
    },
    {
      "cell_type": "code",
      "source": [
        "# Load file model_day.pkl\n",
        "model_dict = joblib.load('model_day_LSTM.pkl')\n",
        "\n",
        "# Cek keys\n",
        "print(\"Model keys di dalam model_day_LSTM.pkl:\", model_dict.keys())\n",
        "\n",
        "# Cek tipe tiap model\n",
        "for key, model in model_dict.items():\n",
        "    print(f\"Model '{key}' bertipe: {type(model)}\")"
      ],
      "metadata": {
        "colab": {
          "base_uri": "https://localhost:8080/"
        },
        "id": "r14zaxiZ5Q-2",
        "outputId": "f3bee5be-1bda-4f38-aba6-eeba499e81b3"
      },
      "execution_count": 119,
      "outputs": [
        {
          "output_type": "stream",
          "name": "stdout",
          "text": [
            "Model keys di dalam model_day_LSTM.pkl: dict_keys(['regression', 'classification', 'scaler'])\n",
            "Model 'regression' bertipe: <class 'keras.src.models.sequential.Sequential'>\n",
            "Model 'classification' bertipe: <class 'sklearn.ensemble._forest.RandomForestClassifier'>\n",
            "Model 'scaler' bertipe: <class 'sklearn.preprocessing._data.MinMaxScaler'>\n"
          ]
        }
      ]
    },
    {
      "cell_type": "code",
      "source": [
        "from google.colab import files\n",
        "\n",
        "files.download('model_day_LSTM.pkl')"
      ],
      "metadata": {
        "colab": {
          "base_uri": "https://localhost:8080/",
          "height": 17
        },
        "id": "ATZWPR036CLd",
        "outputId": "3fa47784-e881-470c-c6a9-d5b6a088699a"
      },
      "execution_count": 120,
      "outputs": [
        {
          "output_type": "display_data",
          "data": {
            "text/plain": [
              "<IPython.core.display.Javascript object>"
            ],
            "application/javascript": [
              "\n",
              "    async function download(id, filename, size) {\n",
              "      if (!google.colab.kernel.accessAllowed) {\n",
              "        return;\n",
              "      }\n",
              "      const div = document.createElement('div');\n",
              "      const label = document.createElement('label');\n",
              "      label.textContent = `Downloading \"${filename}\": `;\n",
              "      div.appendChild(label);\n",
              "      const progress = document.createElement('progress');\n",
              "      progress.max = size;\n",
              "      div.appendChild(progress);\n",
              "      document.body.appendChild(div);\n",
              "\n",
              "      const buffers = [];\n",
              "      let downloaded = 0;\n",
              "\n",
              "      const channel = await google.colab.kernel.comms.open(id);\n",
              "      // Send a message to notify the kernel that we're ready.\n",
              "      channel.send({})\n",
              "\n",
              "      for await (const message of channel.messages) {\n",
              "        // Send a message to notify the kernel that we're ready.\n",
              "        channel.send({})\n",
              "        if (message.buffers) {\n",
              "          for (const buffer of message.buffers) {\n",
              "            buffers.push(buffer);\n",
              "            downloaded += buffer.byteLength;\n",
              "            progress.value = downloaded;\n",
              "          }\n",
              "        }\n",
              "      }\n",
              "      const blob = new Blob(buffers, {type: 'application/binary'});\n",
              "      const a = document.createElement('a');\n",
              "      a.href = window.URL.createObjectURL(blob);\n",
              "      a.download = filename;\n",
              "      div.appendChild(a);\n",
              "      a.click();\n",
              "      div.remove();\n",
              "    }\n",
              "  "
            ]
          },
          "metadata": {}
        },
        {
          "output_type": "display_data",
          "data": {
            "text/plain": [
              "<IPython.core.display.Javascript object>"
            ],
            "application/javascript": [
              "download(\"download_178b1cf2-017e-4519-900c-bd9c6ea6cf96\", \"model_day_LSTM.pkl\", 329641)"
            ]
          },
          "metadata": {}
        }
      ]
    }
  ]
}
