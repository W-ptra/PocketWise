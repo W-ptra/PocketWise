{
  "cells": [
    {
      "cell_type": "markdown",
      "metadata": {
        "id": "hFBNiRzT7EFm"
      },
      "source": [
        "# Model Analisis dan prediksi Pengeluaran dengan LSTM"
      ]
    },
    {
      "cell_type": "markdown",
      "source": [],
      "metadata": {
        "id": "leZW2oNEacry"
      }
    },
    {
      "cell_type": "code",
      "execution_count": 26,
      "metadata": {
        "id": "igqTfVv3x8Ga"
      },
      "outputs": [],
      "source": [
        "import pandas as pd\n",
        "import numpy as np\n",
        "from sklearn.preprocessing import MinMaxScaler, StandardScaler, LabelEncoder\n",
        "from sklearn.model_selection import train_test_split, RandomizedSearchCV\n",
        "from sklearn.pipeline import Pipeline\n",
        "from xgboost import XGBClassifier\n",
        "from sklearn.metrics import classification_report\n",
        "from imblearn.pipeline import Pipeline as ImbPipeline\n",
        "from imblearn.over_sampling import SMOTE\n",
        "from sklearn.impute import SimpleImputer\n",
        "\n",
        "import os\n",
        "from google.colab import userdata\n"
      ]
    },
    {
      "cell_type": "markdown",
      "metadata": {
        "id": "E1LN6YToC1aD"
      },
      "source": [
        "## Load Data"
      ]
    },
    {
      "cell_type": "code",
      "execution_count": 27,
      "metadata": {
        "id": "AwPnmhuOyCkq"
      },
      "outputs": [],
      "source": [
        "# Kredensial dari Google Colab Secrets\n",
        "kaggle_username = userdata.get('kaggle_username')  # Nama pengguna\n",
        "kaggle_key = userdata.get('kaggle_key')     # Kunci API\n",
        "\n",
        "# Set variabel lingkungan untuk Kaggle\n",
        "os.environ['KAGGLE_USERNAME'] = kaggle_username\n",
        "os.environ['KAGGLE_KEY'] = kaggle_key"
      ]
    },
    {
      "cell_type": "code",
      "execution_count": 28,
      "metadata": {
        "id": "dTjukBNdyD3D",
        "colab": {
          "base_uri": "https://localhost:8080/"
        },
        "outputId": "60596cc7-4665-4bd6-9b3f-905a6e7fa91f"
      },
      "outputs": [
        {
          "output_type": "stream",
          "name": "stdout",
          "text": [
            "Dataset URL: https://www.kaggle.com/datasets/prasad22/daily-transactions-dataset\n",
            "License(s): other\n",
            "daily-transactions-dataset.zip: Skipping, found more recently modified local copy (use --force to force download)\n",
            "Archive:  daily-transactions-dataset.zip\n",
            "replace Daily Household Transactions.csv? [y]es, [n]o, [A]ll, [N]one, [r]ename: y\n",
            "  inflating: Daily Household Transactions.csv  \n"
          ]
        }
      ],
      "source": [
        "!kaggle datasets download -d prasad22/daily-transactions-dataset\n",
        "!unzip daily-transactions-dataset.zip"
      ]
    },
    {
      "cell_type": "code",
      "execution_count": 29,
      "metadata": {
        "id": "nqc9XXtjBD5m",
        "colab": {
          "base_uri": "https://localhost:8080/",
          "height": 399
        },
        "outputId": "7a49ba4c-509f-4b03-dc26-9a7bbf351822"
      },
      "outputs": [
        {
          "output_type": "execute_result",
          "data": {
            "text/plain": [
              "                  Date                   Mode        Category  \\\n",
              "0  20/09/2018 12:04:08                   Cash  Transportation   \n",
              "1  20/09/2018 12:03:15                   Cash            Food   \n",
              "2           19/09/2018  Saving Bank account 1    subscription   \n",
              "3  17/09/2018 23:41:17  Saving Bank account 1    subscription   \n",
              "4  16/09/2018 17:15:08                   Cash       Festivals   \n",
              "\n",
              "               Subcategory                         Note  Amount  \\\n",
              "0                    Train         2 Place 5 to Place 0    30.0   \n",
              "1                   snacks  Idli medu Vada mix 2 plates    60.0   \n",
              "2                  Netflix         1 month subscription   199.0   \n",
              "3  Mobile Service Provider            Data booster pack    19.0   \n",
              "4             Ganesh Pujan                  Ganesh idol   251.0   \n",
              "\n",
              "  Income/Expense Currency  \n",
              "0        Expense      INR  \n",
              "1        Expense      INR  \n",
              "2        Expense      INR  \n",
              "3        Expense      INR  \n",
              "4        Expense      INR  "
            ],
            "text/html": [
              "\n",
              "  <div id=\"df-851425fb-4a29-4c10-a24b-45a4af067c80\" class=\"colab-df-container\">\n",
              "    <div>\n",
              "<style scoped>\n",
              "    .dataframe tbody tr th:only-of-type {\n",
              "        vertical-align: middle;\n",
              "    }\n",
              "\n",
              "    .dataframe tbody tr th {\n",
              "        vertical-align: top;\n",
              "    }\n",
              "\n",
              "    .dataframe thead th {\n",
              "        text-align: right;\n",
              "    }\n",
              "</style>\n",
              "<table border=\"1\" class=\"dataframe\">\n",
              "  <thead>\n",
              "    <tr style=\"text-align: right;\">\n",
              "      <th></th>\n",
              "      <th>Date</th>\n",
              "      <th>Mode</th>\n",
              "      <th>Category</th>\n",
              "      <th>Subcategory</th>\n",
              "      <th>Note</th>\n",
              "      <th>Amount</th>\n",
              "      <th>Income/Expense</th>\n",
              "      <th>Currency</th>\n",
              "    </tr>\n",
              "  </thead>\n",
              "  <tbody>\n",
              "    <tr>\n",
              "      <th>0</th>\n",
              "      <td>20/09/2018 12:04:08</td>\n",
              "      <td>Cash</td>\n",
              "      <td>Transportation</td>\n",
              "      <td>Train</td>\n",
              "      <td>2 Place 5 to Place 0</td>\n",
              "      <td>30.0</td>\n",
              "      <td>Expense</td>\n",
              "      <td>INR</td>\n",
              "    </tr>\n",
              "    <tr>\n",
              "      <th>1</th>\n",
              "      <td>20/09/2018 12:03:15</td>\n",
              "      <td>Cash</td>\n",
              "      <td>Food</td>\n",
              "      <td>snacks</td>\n",
              "      <td>Idli medu Vada mix 2 plates</td>\n",
              "      <td>60.0</td>\n",
              "      <td>Expense</td>\n",
              "      <td>INR</td>\n",
              "    </tr>\n",
              "    <tr>\n",
              "      <th>2</th>\n",
              "      <td>19/09/2018</td>\n",
              "      <td>Saving Bank account 1</td>\n",
              "      <td>subscription</td>\n",
              "      <td>Netflix</td>\n",
              "      <td>1 month subscription</td>\n",
              "      <td>199.0</td>\n",
              "      <td>Expense</td>\n",
              "      <td>INR</td>\n",
              "    </tr>\n",
              "    <tr>\n",
              "      <th>3</th>\n",
              "      <td>17/09/2018 23:41:17</td>\n",
              "      <td>Saving Bank account 1</td>\n",
              "      <td>subscription</td>\n",
              "      <td>Mobile Service Provider</td>\n",
              "      <td>Data booster pack</td>\n",
              "      <td>19.0</td>\n",
              "      <td>Expense</td>\n",
              "      <td>INR</td>\n",
              "    </tr>\n",
              "    <tr>\n",
              "      <th>4</th>\n",
              "      <td>16/09/2018 17:15:08</td>\n",
              "      <td>Cash</td>\n",
              "      <td>Festivals</td>\n",
              "      <td>Ganesh Pujan</td>\n",
              "      <td>Ganesh idol</td>\n",
              "      <td>251.0</td>\n",
              "      <td>Expense</td>\n",
              "      <td>INR</td>\n",
              "    </tr>\n",
              "  </tbody>\n",
              "</table>\n",
              "</div>\n",
              "    <div class=\"colab-df-buttons\">\n",
              "\n",
              "  <div class=\"colab-df-container\">\n",
              "    <button class=\"colab-df-convert\" onclick=\"convertToInteractive('df-851425fb-4a29-4c10-a24b-45a4af067c80')\"\n",
              "            title=\"Convert this dataframe to an interactive table.\"\n",
              "            style=\"display:none;\">\n",
              "\n",
              "  <svg xmlns=\"http://www.w3.org/2000/svg\" height=\"24px\" viewBox=\"0 -960 960 960\">\n",
              "    <path d=\"M120-120v-720h720v720H120Zm60-500h600v-160H180v160Zm220 220h160v-160H400v160Zm0 220h160v-160H400v160ZM180-400h160v-160H180v160Zm440 0h160v-160H620v160ZM180-180h160v-160H180v160Zm440 0h160v-160H620v160Z\"/>\n",
              "  </svg>\n",
              "    </button>\n",
              "\n",
              "  <style>\n",
              "    .colab-df-container {\n",
              "      display:flex;\n",
              "      gap: 12px;\n",
              "    }\n",
              "\n",
              "    .colab-df-convert {\n",
              "      background-color: #E8F0FE;\n",
              "      border: none;\n",
              "      border-radius: 50%;\n",
              "      cursor: pointer;\n",
              "      display: none;\n",
              "      fill: #1967D2;\n",
              "      height: 32px;\n",
              "      padding: 0 0 0 0;\n",
              "      width: 32px;\n",
              "    }\n",
              "\n",
              "    .colab-df-convert:hover {\n",
              "      background-color: #E2EBFA;\n",
              "      box-shadow: 0px 1px 2px rgba(60, 64, 67, 0.3), 0px 1px 3px 1px rgba(60, 64, 67, 0.15);\n",
              "      fill: #174EA6;\n",
              "    }\n",
              "\n",
              "    .colab-df-buttons div {\n",
              "      margin-bottom: 4px;\n",
              "    }\n",
              "\n",
              "    [theme=dark] .colab-df-convert {\n",
              "      background-color: #3B4455;\n",
              "      fill: #D2E3FC;\n",
              "    }\n",
              "\n",
              "    [theme=dark] .colab-df-convert:hover {\n",
              "      background-color: #434B5C;\n",
              "      box-shadow: 0px 1px 3px 1px rgba(0, 0, 0, 0.15);\n",
              "      filter: drop-shadow(0px 1px 2px rgba(0, 0, 0, 0.3));\n",
              "      fill: #FFFFFF;\n",
              "    }\n",
              "  </style>\n",
              "\n",
              "    <script>\n",
              "      const buttonEl =\n",
              "        document.querySelector('#df-851425fb-4a29-4c10-a24b-45a4af067c80 button.colab-df-convert');\n",
              "      buttonEl.style.display =\n",
              "        google.colab.kernel.accessAllowed ? 'block' : 'none';\n",
              "\n",
              "      async function convertToInteractive(key) {\n",
              "        const element = document.querySelector('#df-851425fb-4a29-4c10-a24b-45a4af067c80');\n",
              "        const dataTable =\n",
              "          await google.colab.kernel.invokeFunction('convertToInteractive',\n",
              "                                                    [key], {});\n",
              "        if (!dataTable) return;\n",
              "\n",
              "        const docLinkHtml = 'Like what you see? Visit the ' +\n",
              "          '<a target=\"_blank\" href=https://colab.research.google.com/notebooks/data_table.ipynb>data table notebook</a>'\n",
              "          + ' to learn more about interactive tables.';\n",
              "        element.innerHTML = '';\n",
              "        dataTable['output_type'] = 'display_data';\n",
              "        await google.colab.output.renderOutput(dataTable, element);\n",
              "        const docLink = document.createElement('div');\n",
              "        docLink.innerHTML = docLinkHtml;\n",
              "        element.appendChild(docLink);\n",
              "      }\n",
              "    </script>\n",
              "  </div>\n",
              "\n",
              "\n",
              "    <div id=\"df-9366b521-1118-4300-b812-1bca71e5f49e\">\n",
              "      <button class=\"colab-df-quickchart\" onclick=\"quickchart('df-9366b521-1118-4300-b812-1bca71e5f49e')\"\n",
              "                title=\"Suggest charts\"\n",
              "                style=\"display:none;\">\n",
              "\n",
              "<svg xmlns=\"http://www.w3.org/2000/svg\" height=\"24px\"viewBox=\"0 0 24 24\"\n",
              "     width=\"24px\">\n",
              "    <g>\n",
              "        <path d=\"M19 3H5c-1.1 0-2 .9-2 2v14c0 1.1.9 2 2 2h14c1.1 0 2-.9 2-2V5c0-1.1-.9-2-2-2zM9 17H7v-7h2v7zm4 0h-2V7h2v10zm4 0h-2v-4h2v4z\"/>\n",
              "    </g>\n",
              "</svg>\n",
              "      </button>\n",
              "\n",
              "<style>\n",
              "  .colab-df-quickchart {\n",
              "      --bg-color: #E8F0FE;\n",
              "      --fill-color: #1967D2;\n",
              "      --hover-bg-color: #E2EBFA;\n",
              "      --hover-fill-color: #174EA6;\n",
              "      --disabled-fill-color: #AAA;\n",
              "      --disabled-bg-color: #DDD;\n",
              "  }\n",
              "\n",
              "  [theme=dark] .colab-df-quickchart {\n",
              "      --bg-color: #3B4455;\n",
              "      --fill-color: #D2E3FC;\n",
              "      --hover-bg-color: #434B5C;\n",
              "      --hover-fill-color: #FFFFFF;\n",
              "      --disabled-bg-color: #3B4455;\n",
              "      --disabled-fill-color: #666;\n",
              "  }\n",
              "\n",
              "  .colab-df-quickchart {\n",
              "    background-color: var(--bg-color);\n",
              "    border: none;\n",
              "    border-radius: 50%;\n",
              "    cursor: pointer;\n",
              "    display: none;\n",
              "    fill: var(--fill-color);\n",
              "    height: 32px;\n",
              "    padding: 0;\n",
              "    width: 32px;\n",
              "  }\n",
              "\n",
              "  .colab-df-quickchart:hover {\n",
              "    background-color: var(--hover-bg-color);\n",
              "    box-shadow: 0 1px 2px rgba(60, 64, 67, 0.3), 0 1px 3px 1px rgba(60, 64, 67, 0.15);\n",
              "    fill: var(--button-hover-fill-color);\n",
              "  }\n",
              "\n",
              "  .colab-df-quickchart-complete:disabled,\n",
              "  .colab-df-quickchart-complete:disabled:hover {\n",
              "    background-color: var(--disabled-bg-color);\n",
              "    fill: var(--disabled-fill-color);\n",
              "    box-shadow: none;\n",
              "  }\n",
              "\n",
              "  .colab-df-spinner {\n",
              "    border: 2px solid var(--fill-color);\n",
              "    border-color: transparent;\n",
              "    border-bottom-color: var(--fill-color);\n",
              "    animation:\n",
              "      spin 1s steps(1) infinite;\n",
              "  }\n",
              "\n",
              "  @keyframes spin {\n",
              "    0% {\n",
              "      border-color: transparent;\n",
              "      border-bottom-color: var(--fill-color);\n",
              "      border-left-color: var(--fill-color);\n",
              "    }\n",
              "    20% {\n",
              "      border-color: transparent;\n",
              "      border-left-color: var(--fill-color);\n",
              "      border-top-color: var(--fill-color);\n",
              "    }\n",
              "    30% {\n",
              "      border-color: transparent;\n",
              "      border-left-color: var(--fill-color);\n",
              "      border-top-color: var(--fill-color);\n",
              "      border-right-color: var(--fill-color);\n",
              "    }\n",
              "    40% {\n",
              "      border-color: transparent;\n",
              "      border-right-color: var(--fill-color);\n",
              "      border-top-color: var(--fill-color);\n",
              "    }\n",
              "    60% {\n",
              "      border-color: transparent;\n",
              "      border-right-color: var(--fill-color);\n",
              "    }\n",
              "    80% {\n",
              "      border-color: transparent;\n",
              "      border-right-color: var(--fill-color);\n",
              "      border-bottom-color: var(--fill-color);\n",
              "    }\n",
              "    90% {\n",
              "      border-color: transparent;\n",
              "      border-bottom-color: var(--fill-color);\n",
              "    }\n",
              "  }\n",
              "</style>\n",
              "\n",
              "      <script>\n",
              "        async function quickchart(key) {\n",
              "          const quickchartButtonEl =\n",
              "            document.querySelector('#' + key + ' button');\n",
              "          quickchartButtonEl.disabled = true;  // To prevent multiple clicks.\n",
              "          quickchartButtonEl.classList.add('colab-df-spinner');\n",
              "          try {\n",
              "            const charts = await google.colab.kernel.invokeFunction(\n",
              "                'suggestCharts', [key], {});\n",
              "          } catch (error) {\n",
              "            console.error('Error during call to suggestCharts:', error);\n",
              "          }\n",
              "          quickchartButtonEl.classList.remove('colab-df-spinner');\n",
              "          quickchartButtonEl.classList.add('colab-df-quickchart-complete');\n",
              "        }\n",
              "        (() => {\n",
              "          let quickchartButtonEl =\n",
              "            document.querySelector('#df-9366b521-1118-4300-b812-1bca71e5f49e button');\n",
              "          quickchartButtonEl.style.display =\n",
              "            google.colab.kernel.accessAllowed ? 'block' : 'none';\n",
              "        })();\n",
              "      </script>\n",
              "    </div>\n",
              "\n",
              "    </div>\n",
              "  </div>\n"
            ],
            "application/vnd.google.colaboratory.intrinsic+json": {
              "type": "dataframe",
              "variable_name": "df",
              "summary": "{\n  \"name\": \"df\",\n  \"rows\": 2461,\n  \"fields\": [\n    {\n      \"column\": \"Date\",\n      \"properties\": {\n        \"dtype\": \"string\",\n        \"num_unique_values\": 1611,\n        \"samples\": [\n          \"28/08/2018 19:16:09\",\n          \"16/04/2018 20:55:46\",\n          \"15/02/2018 19:46:43\"\n        ],\n        \"semantic_type\": \"\",\n        \"description\": \"\"\n      }\n    },\n    {\n      \"column\": \"Mode\",\n      \"properties\": {\n        \"dtype\": \"category\",\n        \"num_unique_values\": 12,\n        \"samples\": [\n          \"Fixed Deposit\",\n          \"Equity Mutual Fund D\",\n          \"Cash\"\n        ],\n        \"semantic_type\": \"\",\n        \"description\": \"\"\n      }\n    },\n    {\n      \"column\": \"Category\",\n      \"properties\": {\n        \"dtype\": \"category\",\n        \"num_unique_values\": 50,\n        \"samples\": [\n          \"Salary\",\n          \"Recurring Deposit\",\n          \"Petty cash\"\n        ],\n        \"semantic_type\": \"\",\n        \"description\": \"\"\n      }\n    },\n    {\n      \"column\": \"Subcategory\",\n      \"properties\": {\n        \"dtype\": \"category\",\n        \"num_unique_values\": 90,\n        \"samples\": [\n          \"Hardware\",\n          \"Tea\",\n          \"Stationary\"\n        ],\n        \"semantic_type\": \"\",\n        \"description\": \"\"\n      }\n    },\n    {\n      \"column\": \"Note\",\n      \"properties\": {\n        \"dtype\": \"category\",\n        \"num_unique_values\": 1057,\n        \"samples\": [\n          \"Chitale Srikhand\",\n          \"Mutual fund B\",\n          \"agarbatti + icecream pack\"\n        ],\n        \"semantic_type\": \"\",\n        \"description\": \"\"\n      }\n    },\n    {\n      \"column\": \"Amount\",\n      \"properties\": {\n        \"dtype\": \"number\",\n        \"std\": 12519.61580435605,\n        \"min\": 2.0,\n        \"max\": 250000.0,\n        \"num_unique_values\": 550,\n        \"samples\": [\n          73.0,\n          1358.0,\n          15000.0\n        ],\n        \"semantic_type\": \"\",\n        \"description\": \"\"\n      }\n    },\n    {\n      \"column\": \"Income/Expense\",\n      \"properties\": {\n        \"dtype\": \"category\",\n        \"num_unique_values\": 3,\n        \"samples\": [\n          \"Expense\",\n          \"Transfer-Out\",\n          \"Income\"\n        ],\n        \"semantic_type\": \"\",\n        \"description\": \"\"\n      }\n    },\n    {\n      \"column\": \"Currency\",\n      \"properties\": {\n        \"dtype\": \"category\",\n        \"num_unique_values\": 1,\n        \"samples\": [\n          \"INR\"\n        ],\n        \"semantic_type\": \"\",\n        \"description\": \"\"\n      }\n    }\n  ]\n}"
            }
          },
          "metadata": {},
          "execution_count": 29
        }
      ],
      "source": [
        "df = pd.read_csv(\"Daily Household Transactions.csv\")\n",
        "df.head()"
      ]
    },
    {
      "cell_type": "markdown",
      "metadata": {
        "id": "v1EwDJDCC_ht"
      },
      "source": [
        "## Preprocessing"
      ]
    },
    {
      "cell_type": "code",
      "execution_count": 30,
      "metadata": {
        "id": "ZhASW7Uusdm4"
      },
      "outputs": [],
      "source": [
        "# Konversi\n",
        "df[\"Date\"] = pd.to_datetime(df[\"Date\"], dayfirst=True, errors=\"coerce\")\n",
        "df = df.dropna(subset=[\"Date\"])\n",
        "\n",
        "# Filter hanya Expense dengan Currency INR\n",
        "df = df[(df[\"Income/Expense\"] == \"Expense\") & (df[\"Currency\"] == \"INR\")]\n"
      ]
    },
    {
      "cell_type": "code",
      "source": [
        "# Total pengeluaran per hari\n",
        "daily_expense = (\n",
        "    df.groupby(df[\"Date\"].dt.date)[\"Amount\"]\n",
        "    .sum()\n",
        "    .reset_index()\n",
        "    .rename(columns={\"Date\": \"Date\", \"Amount\": \"Total_Expense\"})\n",
        ")\n",
        "daily_expense[\"Date\"] = pd.to_datetime(daily_expense[\"Date\"])"
      ],
      "metadata": {
        "id": "aPkTDh-pool2"
      },
      "execution_count": 31,
      "outputs": []
    },
    {
      "cell_type": "markdown",
      "source": [
        "## Feature Engineering"
      ],
      "metadata": {
        "id": "92T2T2nN3zTd"
      }
    },
    {
      "cell_type": "code",
      "source": [
        "# Day of week (cyclical)\n",
        "daily_expense[\"DayOfWeek\"] = daily_expense[\"Date\"].dt.dayofweek\n",
        "daily_expense[\"DayOfWeek_sin\"] = np.sin(2 * np.pi * daily_expense[\"DayOfWeek\"] / 7)\n",
        "daily_expense[\"DayOfWeek_cos\"] = np.cos(2 * np.pi * daily_expense[\"DayOfWeek\"] / 7)\n",
        "daily_expense[\"Is_Weekend\"] = daily_expense[\"DayOfWeek\"].isin([5, 6]).astype(int)"
      ],
      "metadata": {
        "id": "NjAyT98hotKs"
      },
      "execution_count": 32,
      "outputs": []
    },
    {
      "cell_type": "code",
      "source": [
        "# Moving average and trend features\n",
        "daily_expense['MA7'] = daily_expense['Total_Expense'].rolling(window=7, min_periods=1).mean()\n",
        "daily_expense['Diff'] = daily_expense['Total_Expense'].diff().fillna(0)\n",
        "daily_expense['Perc_Change'] = daily_expense['Total_Expense'].pct_change().fillna(0)\n",
        "\n",
        "daily_expense[\"Expense_to_MA7_Ratio\"] = daily_expense[\"Total_Expense\"] / daily_expense[\"MA7\"]\n",
        "mean_expense = daily_expense[\"Total_Expense\"].mean()\n",
        "daily_expense[\"Expense_to_Mean_Ratio\"] = daily_expense[\"Total_Expense\"] / mean_expense"
      ],
      "metadata": {
        "id": "-u0qvh8Nqgy0"
      },
      "execution_count": 33,
      "outputs": []
    },
    {
      "cell_type": "code",
      "source": [
        "# Perubahan mingguan\n",
        "daily_expense[\"Week\"] = daily_expense[\"Date\"].dt.isocalendar().week\n",
        "weekly_expense = (\n",
        "    daily_expense.groupby(\"Week\")[\"Total_Expense\"].sum()\n",
        "    .reset_index()\n",
        "    .rename(columns={\"Total_Expense\": \"Weekly_Total_Expense\"})\n",
        ")\n",
        "weekly_expense[\"Prev_Week_Expense\"] = weekly_expense[\"Weekly_Total_Expense\"].shift(1)\n",
        "weekly_expense[\"Weekly_Change_Ratio\"] = (\n",
        "    weekly_expense[\"Weekly_Total_Expense\"] / weekly_expense[\"Prev_Week_Expense\"]\n",
        ").replace([np.inf, -np.inf], np.nan).fillna(1)\n",
        "\n",
        "daily_expense = daily_expense.merge(\n",
        "    weekly_expense[[\"Week\", \"Weekly_Change_Ratio\"]],\n",
        "    on=\"Week\",\n",
        "    how=\"left\",\n",
        ")"
      ],
      "metadata": {
        "id": "Y9SvVLoU_15k"
      },
      "execution_count": 34,
      "outputs": []
    },
    {
      "cell_type": "code",
      "source": [
        "# Rasio pengeluaran harian dibandingkan hari sebelumnya\n",
        "daily_expense[\"Prev_Day_Expense\"] = daily_expense[\"Total_Expense\"].shift(1).bfill()\n",
        "daily_expense[\"Expense_to_Prev_Day_Ratio\"] = (\n",
        "    daily_expense[\"Total_Expense\"] / daily_expense[\"Prev_Day_Expense\"]\n",
        ").replace([np.inf, -np.inf], np.nan).fillna(1)"
      ],
      "metadata": {
        "id": "jhmP4jRD0R2A"
      },
      "execution_count": 35,
      "outputs": []
    },
    {
      "cell_type": "code",
      "source": [
        "# Fitur kumulatif pengeluaran bulanan (monthly cumulative expense ratio)\n",
        "\n",
        "daily_expense[\"Month\"] = daily_expense[\"Date\"].dt.to_period(\"M\")\n",
        "monthly_expense = (\n",
        "    daily_expense.groupby(\"Month\")[\"Total_Expense\"]\n",
        "    .sum()\n",
        "    .reset_index()\n",
        "    .rename(columns={\"Total_Expense\": \"Monthly_Total_Expense\"})\n",
        ")\n",
        "monthly_mean = monthly_expense[\"Monthly_Total_Expense\"].mean()\n",
        "\n",
        "daily_expense = daily_expense.merge(monthly_expense, on=\"Month\", how=\"left\")\n",
        "daily_expense[\"Expense_to_Monthly_Total_Ratio\"] = (\n",
        "    daily_expense[\"Total_Expense\"] / daily_expense[\"Monthly_Total_Expense\"]\n",
        ")\n",
        "daily_expense[\"Monthly_Total_to_Mean_Ratio\"] = (\n",
        "    daily_expense[\"Monthly_Total_Expense\"] / monthly_mean\n",
        ")"
      ],
      "metadata": {
        "id": "h4DcqQdN1fIl"
      },
      "execution_count": 36,
      "outputs": []
    },
    {
      "cell_type": "code",
      "source": [
        "# 6. Imputasi NaN\n",
        "daily_expense.bfill(inplace=True)\n",
        "daily_expense.ffill(inplace=True)"
      ],
      "metadata": {
        "id": "lu951Sg298Am"
      },
      "execution_count": 37,
      "outputs": []
    },
    {
      "cell_type": "code",
      "source": [
        "# --- Log transform pengeluaran ---\n",
        "daily_expense[\"Log_Expense\"] = np.log1p(daily_expense[\"Total_Expense\"])\n",
        "\n",
        "# ------------------------------------------\n",
        "# 3. Normalisasi fitur numerik\n",
        "# ------------------------------------------\n",
        "features_to_scale = [\n",
        "    \"Total_Expense\",\n",
        "    \"Log_Expense\",\n",
        "    \"MA7\",\n",
        "    \"Diff\",\n",
        "    \"Perc_Change\",\n",
        "    \"Expense_to_MA7_Ratio\",\n",
        "    \"Expense_to_Prev_Day_Ratio\",\n",
        "    \"Expense_to_Mean_Ratio\",\n",
        "    \"Weekly_Change_Ratio\",\n",
        "    \"Expense_to_Monthly_Total_Ratio\",\n",
        "    \"Monthly_Total_to_Mean_Ratio\",\n",
        "]\n",
        "\n",
        "scaler = MinMaxScaler()\n",
        "daily_expense[features_to_scale] = scaler.fit_transform(daily_expense[features_to_scale])"
      ],
      "metadata": {
        "id": "qPkHKLk_owql"
      },
      "execution_count": 38,
      "outputs": []
    },
    {
      "cell_type": "code",
      "source": [
        "# Normalized_Expense\n",
        "daily_expense[\"Normalized_Expense\"] = daily_expense[\"Total_Expense\"]"
      ],
      "metadata": {
        "id": "QkFQ-LJ3b4Je"
      },
      "execution_count": 39,
      "outputs": []
    },
    {
      "cell_type": "markdown",
      "metadata": {
        "id": "xq345bCE7O-r"
      },
      "source": [
        "## Modelling"
      ]
    },
    {
      "cell_type": "markdown",
      "metadata": {
        "id": "4KqbTgTpRMtf"
      },
      "source": [
        "## XGBooster (Klasifikasi)"
      ]
    },
    {
      "cell_type": "code",
      "execution_count": 40,
      "metadata": {
        "id": "EItqUW5qsI6w"
      },
      "outputs": [],
      "source": [
        "# Windowing untuk Prediksi 7 Hari\n",
        "\n",
        "window_size = 14\n",
        "forecast_horizon = 7\n",
        "\n",
        "selected_features = [\n",
        "    \"Normalized_Expense\",\n",
        "    \"MA7\",\n",
        "    \"Diff\",\n",
        "    \"Perc_Change\",\n",
        "    \"Expense_to_MA7_Ratio\",\n",
        "    \"Expense_to_Prev_Day_Ratio\",\n",
        "    \"Expense_to_Mean_Ratio\",\n",
        "    \"Weekly_Change_Ratio\",\n",
        "    \"Expense_to_Monthly_Total_Ratio\",\n",
        "    \"Monthly_Total_to_Mean_Ratio\",\n",
        "]\n",
        "\n",
        "X = []\n",
        "y_class = []\n",
        "\n",
        "for i in range(len(daily_expense) - window_size - forecast_horizon):\n",
        "    window = daily_expense[selected_features].iloc[i : i + window_size].values\n",
        "    next_7_days = daily_expense[\"Normalized_Expense\"].iloc[\n",
        "        i + window_size : i + window_size + forecast_horizon\n",
        "    ].values\n",
        "\n",
        "    # Hitung rasio rata-rata pengeluaran 7 hari depan vs 14 hari window sebelumnya\n",
        "    ratio = np.mean(next_7_days) / np.mean(window[:, selected_features.index(\"Normalized_Expense\")])\n",
        "\n",
        "    # Label kelas berdasarkan rasio\n",
        "    if ratio > 1.1:\n",
        "        label = \"Boros\"\n",
        "    elif ratio < 0.9:\n",
        "        label = \"Hemat\"\n",
        "    else:\n",
        "        label = \"Balance\"\n",
        "\n",
        "    X.append(window)\n",
        "    y_class.append(label)\n",
        "\n",
        "X = np.array(X)\n",
        "y_class = np.array(y_class)"
      ]
    },
    {
      "cell_type": "code",
      "source": [
        "# --- Fungsi ekstrak fitur statistik dari window ---\n",
        "def extract_stat_features(X_windows):\n",
        "    stats = []\n",
        "    for w in X_windows:\n",
        "        stat_features = []\n",
        "        for col in range(w.shape[1]):\n",
        "            stat_features.extend(\n",
        "                [\n",
        "                    np.mean(w[:, col]),\n",
        "                    np.std(w[:, col]),\n",
        "                    np.max(w[:, col]),\n",
        "                    np.min(w[:, col]),\n",
        "                ]\n",
        "            )\n",
        "        stats.append(stat_features)\n",
        "    return np.array(stats)\n",
        "\n",
        "\n",
        "X_stats = extract_stat_features(X)\n",
        "\n",
        "# --- Fitur temporal ---\n",
        "temporal_features = []\n",
        "for i in range(window_size, len(daily_expense) - forecast_horizon):\n",
        "    date = daily_expense[\"Date\"].iloc[i]\n",
        "    temporal_features.append([date.day, date.isocalendar()[1], date.month])\n",
        "temporal_features = np.array(temporal_features)\n",
        "\n",
        "# Pastikan jumlah sampel fitur temporal sama dengan X_stats dan X\n",
        "assert temporal_features.shape[0] == X.shape[0], \"Panjang fitur temporal tidak cocok\""
      ],
      "metadata": {
        "id": "aYaSeSGDufcq"
      },
      "execution_count": 41,
      "outputs": []
    },
    {
      "cell_type": "code",
      "source": [
        "# --- Flatten X window, gabungkan semua fitur ---\n",
        "X_flat = X.reshape(X.shape[0], -1)\n",
        "X_enhanced = np.hstack([X_flat, X_stats, temporal_features])\n",
        "\n",
        "# --- Label encoding ---\n",
        "le = LabelEncoder()\n",
        "y_encoded = le.fit_transform(y_class)\n",
        "\n",
        "X_train, X_test, y_train, y_test = train_test_split(\n",
        "    X_enhanced, y_encoded, test_size=0.2, random_state=42, stratify=y_encoded\n",
        ")"
      ],
      "metadata": {
        "id": "iu3zzi8Wqtuk"
      },
      "execution_count": 42,
      "outputs": []
    },
    {
      "cell_type": "code",
      "source": [
        "imp = SimpleImputer(strategy=\"mean\")\n",
        "X_train = imp.fit_transform(X_train)\n",
        "X_test = imp.transform(X_test)\n",
        "\n",
        "print(f\"Jumlah NaN pada X_train setelah imputasi: {pd.DataFrame(X_train).isnull().sum().sum()}\")"
      ],
      "metadata": {
        "colab": {
          "base_uri": "https://localhost:8080/"
        },
        "id": "u2Q7TDu-KGSX",
        "outputId": "dd3d420e-5811-48c4-cec0-51f1ce265274"
      },
      "execution_count": 43,
      "outputs": [
        {
          "output_type": "stream",
          "name": "stdout",
          "text": [
            "Jumlah NaN pada X_train setelah imputasi: 0\n"
          ]
        }
      ]
    },
    {
      "cell_type": "code",
      "source": [
        "# ---Pipeline XGBoost dan Hyperparameter tuning---\n",
        "smote = SMOTE(random_state=42)\n",
        "\n",
        "xgb = XGBClassifier(\n",
        "    objective=\"multi:softmax\",\n",
        "    num_class=3,\n",
        "    eval_metric=\"mlogloss\",\n",
        "    use_label_encoder=False,\n",
        "    random_state=42,\n",
        ")\n",
        "\n",
        "pipeline = ImbPipeline(\n",
        "    steps=[\n",
        "        (\"smote\", smote),\n",
        "        (\"xgb\", xgb),\n",
        "    ]\n",
        ")\n",
        "\n",
        "param_grid = {\n",
        "    \"xgb__max_depth\": [3, 5, 7, 9],\n",
        "    \"xgb__learning_rate\": [0.01, 0.05, 0.1],\n",
        "    \"xgb__n_estimators\": [100, 200, 300],\n",
        "    \"xgb__gamma\": [0, 0.1, 0.3, 0.5],\n",
        "    \"xgb__min_child_weight\": [1, 3, 5],\n",
        "    \"xgb__subsample\": [0.6, 0.8, 1.0],\n",
        "    \"xgb__colsample_bytree\": [0.6, 0.8, 1.0],\n",
        "}\n",
        "\n",
        "search = RandomizedSearchCV(\n",
        "    pipeline,\n",
        "    param_distributions=param_grid,\n",
        "    n_iter=30,\n",
        "    scoring=\"accuracy\",\n",
        "    cv=5,\n",
        "    verbose=2,\n",
        "    n_jobs=-1,\n",
        "    random_state=42,\n",
        ")\n",
        "\n",
        "search.fit(X_train, y_train)\n",
        "\n",
        "# Buat prediksi di data test\n",
        "y_pred_smote = search.predict(X_test)\n",
        "\n",
        "print(\"Best params:\", search.best_params_)\n",
        "print(\"Best CV score:\", search.best_score_)"
      ],
      "metadata": {
        "colab": {
          "base_uri": "https://localhost:8080/"
        },
        "id": "LBsMpyCvo4VU",
        "outputId": "07ed148b-566d-4d39-ce89-29d1d12d8ef1"
      },
      "execution_count": 44,
      "outputs": [
        {
          "output_type": "stream",
          "name": "stdout",
          "text": [
            "Fitting 5 folds for each of 30 candidates, totalling 150 fits\n"
          ]
        },
        {
          "output_type": "stream",
          "name": "stderr",
          "text": [
            "/usr/local/lib/python3.11/dist-packages/xgboost/core.py:158: UserWarning: [07:52:03] WARNING: /workspace/src/learner.cc:740: \n",
            "Parameters: { \"use_label_encoder\" } are not used.\n",
            "\n",
            "  warnings.warn(smsg, UserWarning)\n"
          ]
        },
        {
          "output_type": "stream",
          "name": "stdout",
          "text": [
            "Best params: {'xgb__subsample': 1.0, 'xgb__n_estimators': 200, 'xgb__min_child_weight': 1, 'xgb__max_depth': 5, 'xgb__learning_rate': 0.05, 'xgb__gamma': 0.3, 'xgb__colsample_bytree': 1.0}\n",
            "Best CV score: 0.8366057838660579\n"
          ]
        }
      ]
    },
    {
      "cell_type": "code",
      "source": [
        "from sklearn.metrics import classification_report\n",
        "\n",
        "print(\"Classification Report:\\n\")\n",
        "print(classification_report(y_test, y_pred_smote, target_names=le.classes_))\n"
      ],
      "metadata": {
        "colab": {
          "base_uri": "https://localhost:8080/"
        },
        "id": "-7shWL4JH-dL",
        "outputId": "1e54b85b-33a7-45b7-a435-037e74593b31"
      },
      "execution_count": 45,
      "outputs": [
        {
          "output_type": "stream",
          "name": "stdout",
          "text": [
            "Classification Report:\n",
            "\n",
            "              precision    recall  f1-score   support\n",
            "\n",
            "     Balance       0.60      0.43      0.50         7\n",
            "       Boros       0.97      0.83      0.90        36\n",
            "       Hemat       0.84      0.96      0.89        48\n",
            "\n",
            "    accuracy                           0.87        91\n",
            "   macro avg       0.80      0.74      0.76        91\n",
            "weighted avg       0.87      0.87      0.86        91\n",
            "\n"
          ]
        }
      ]
    },
    {
      "cell_type": "code",
      "source": [
        "from sklearn.metrics import accuracy_score\n",
        "\n",
        "print(\"Akurasi:\", accuracy_score(y_test, y_pred_smote))\n"
      ],
      "metadata": {
        "colab": {
          "base_uri": "https://localhost:8080/"
        },
        "id": "I3eejBLzlhGl",
        "outputId": "e2cbe27b-ae4f-4ef3-adc6-742eaaa17688"
      },
      "execution_count": 46,
      "outputs": [
        {
          "output_type": "stream",
          "name": "stdout",
          "text": [
            "Akurasi: 0.8681318681318682\n"
          ]
        }
      ]
    },
    {
      "cell_type": "code",
      "source": [
        "# Evaluasi: Confusion Matrix\n",
        "\n",
        "import matplotlib.pyplot as plt\n",
        "from sklearn.metrics import confusion_matrix, ConfusionMatrixDisplay\n",
        "\n",
        "cm = confusion_matrix(y_test, y_pred_smote, labels=le.transform(le.classes_))\n",
        "disp = ConfusionMatrixDisplay(confusion_matrix=cm, display_labels=le.classes_)\n",
        "disp.plot(cmap=plt.cm.Blues)\n",
        "plt.show()"
      ],
      "metadata": {
        "colab": {
          "base_uri": "https://localhost:8080/",
          "height": 449
        },
        "id": "fHOSItzQwZY4",
        "outputId": "676202d1-407a-4b84-9f3b-6b1ef04ffe8d"
      },
      "execution_count": 47,
      "outputs": [
        {
          "output_type": "display_data",
          "data": {
            "text/plain": [
              "<Figure size 640x480 with 2 Axes>"
            ],
            "image/png": "[encoded data removed]"
          },
          "metadata": {}
        }
      ]
    },
    {
      "cell_type": "code",
      "source": [
        "import joblib\n",
        "\n",
        "# Simpan pipeline klasifikasi (sudah termasuk SMOTE dan XGBoost)\n",
        "joblib.dump(search.best_estimator_, 'model_klasifikasi_xgb.pkl')\n",
        "\n",
        "# Simpan LabelEncoder\n",
        "joblib.dump(le, 'label_encoder.pkl')"
      ],
      "metadata": {
        "colab": {
          "base_uri": "https://localhost:8080/"
        },
        "id": "qLE-9w_3-63C",
        "outputId": "11fd8257-e594-4344-f118-2939a7d10a2b"
      },
      "execution_count": 48,
      "outputs": [
        {
          "output_type": "execute_result",
          "data": {
            "text/plain": [
              "['label_encoder.pkl']"
            ]
          },
          "metadata": {},
          "execution_count": 48
        }
      ]
    },
    {
      "cell_type": "markdown",
      "source": [
        "#XGBoost (Prediksi)"
      ],
      "metadata": {
        "id": "2ut4we1BGbFy"
      }
    },
    {
      "cell_type": "code",
      "source": [
        "import numpy as np\n",
        "import pandas as pd\n",
        "from sklearn.multioutput import MultiOutputRegressor\n",
        "from sklearn.ensemble import RandomForestRegressor\n",
        "from sklearn.model_selection import train_test_split\n",
        "from sklearn.metrics import mean_absolute_error, mean_squared_error, r2_score\n",
        "import datetime"
      ],
      "metadata": {
        "id": "QwPzVY0QUxw2"
      },
      "execution_count": 49,
      "outputs": []
    },
    {
      "cell_type": "code",
      "source": [
        "window_size = 14\n",
        "forecast_horizon = 7\n",
        "selected_features = [\n",
        "    \"Normalized_Expense\",\n",
        "    \"MA7\",\n",
        "    \"Diff\",\n",
        "    \"Perc_Change\",\n",
        "    \"Expense_to_MA7_Ratio\",\n",
        "    \"Expense_to_Prev_Day_Ratio\",\n",
        "    \"Expense_to_Mean_Ratio\",\n",
        "    \"Weekly_Change_Ratio\",\n",
        "    \"Expense_to_Monthly_Total_Ratio\",\n",
        "    \"Monthly_Total_to_Mean_Ratio\",\n",
        "]\n",
        "\n",
        "# --- Windowing untuk input X dan multi-output target y ---\n",
        "X = []\n",
        "y = []\n",
        "\n",
        "for i in range(len(daily_expense) - window_size - forecast_horizon):\n",
        "    window = daily_expense[selected_features].iloc[i : i + window_size].values\n",
        "    next_7_days = daily_expense[\"Normalized_Expense\"].iloc[\n",
        "        i + window_size : i + window_size + forecast_horizon\n",
        "    ].values\n",
        "    X.append(window)\n",
        "    y.append(next_7_days)\n",
        "\n",
        "X = np.array(X)  # shape (samples, window_size, features)\n",
        "y = np.array(y)  # shape (samples, forecast_horizon)\n"
      ],
      "metadata": {
        "id": "0DLuLHl6rshf"
      },
      "execution_count": 50,
      "outputs": []
    },
    {
      "cell_type": "code",
      "source": [
        "# Flatten fitur time window untuk model (RF butuh 2D input)\n",
        "n_samples, n_timesteps, n_features = X.shape\n",
        "X_reshaped = X.reshape(n_samples, n_timesteps * n_features)\n",
        "\n",
        "# Split data train-test\n",
        "X_train, X_test, y_train, y_test = train_test_split(\n",
        "    X_reshaped, y, test_size=0.2, random_state=42\n",
        ")\n",
        "\n",
        "# Buat model multioutput regresi dengan RandomForest\n",
        "base_model = RandomForestRegressor(n_estimators=100, random_state=42)\n",
        "model = MultiOutputRegressor(base_model)\n",
        "model.fit(X_train, y_train)"
      ],
      "metadata": {
        "colab": {
          "base_uri": "https://localhost:8080/",
          "height": 165
        },
        "id": "jEARpyspCplL",
        "outputId": "f3a730ed-3587-4161-cb0d-b08ff3b1da2c"
      },
      "execution_count": 51,
      "outputs": [
        {
          "output_type": "execute_result",
          "data": {
            "text/plain": [
              "MultiOutputRegressor(estimator=RandomForestRegressor(random_state=42))"
            ],
            "text/html": [
              "<style>#sk-container-id-1 {\n",
              "  /* Definition of color scheme common for light and dark mode */\n",
              "  --sklearn-color-text: #000;\n",
              "  --sklearn-color-text-muted: #666;\n",
              "  --sklearn-color-line: gray;\n",
              "  /* Definition of color scheme for unfitted estimators */\n",
              "  --sklearn-color-unfitted-level-0: #fff5e6;\n",
              "  --sklearn-color-unfitted-level-1: #f6e4d2;\n",
              "  --sklearn-color-unfitted-level-2: #ffe0b3;\n",
              "  --sklearn-color-unfitted-level-3: chocolate;\n",
              "  /* Definition of color scheme for fitted estimators */\n",
              "  --sklearn-color-fitted-level-0: #f0f8ff;\n",
              "  --sklearn-color-fitted-level-1: #d4ebff;\n",
              "  --sklearn-color-fitted-level-2: #b3dbfd;\n",
              "  --sklearn-color-fitted-level-3: cornflowerblue;\n",
              "\n",
              "  /* Specific color for light theme */\n",
              "  --sklearn-color-text-on-default-background: var(--sg-text-color, var(--theme-code-foreground, var(--jp-content-font-color1, black)));\n",
              "  --sklearn-color-background: var(--sg-background-color, var(--theme-background, var(--jp-layout-color0, white)));\n",
              "  --sklearn-color-border-box: var(--sg-text-color, var(--theme-code-foreground, var(--jp-content-font-color1, black)));\n",
              "  --sklearn-color-icon: #696969;\n",
              "\n",
              "  @media (prefers-color-scheme: dark) {\n",
              "    /* Redefinition of color scheme for dark theme */\n",
              "    --sklearn-color-text-on-default-background: var(--sg-text-color, var(--theme-code-foreground, var(--jp-content-font-color1, white)));\n",
              "    --sklearn-color-background: var(--sg-background-color, var(--theme-background, var(--jp-layout-color0, #111)));\n",
              "    --sklearn-color-border-box: var(--sg-text-color, var(--theme-code-foreground, var(--jp-content-font-color1, white)));\n",
              "    --sklearn-color-icon: #878787;\n",
              "  }\n",
              "}\n",
              "\n",
              "#sk-container-id-1 {\n",
              "  color: var(--sklearn-color-text);\n",
              "}\n",
              "\n",
              "#sk-container-id-1 pre {\n",
              "  padding: 0;\n",
              "}\n",
              "\n",
              "#sk-container-id-1 input.sk-hidden--visually {\n",
              "  border: 0;\n",
              "  clip: rect(1px 1px 1px 1px);\n",
              "  clip: rect(1px, 1px, 1px, 1px);\n",
              "  height: 1px;\n",
              "  margin: -1px;\n",
              "  overflow: hidden;\n",
              "  padding: 0;\n",
              "  position: absolute;\n",
              "  width: 1px;\n",
              "}\n",
              "\n",
              "#sk-container-id-1 div.sk-dashed-wrapped {\n",
              "  border: 1px dashed var(--sklearn-color-line);\n",
              "  margin: 0 0.4em 0.5em 0.4em;\n",
              "  box-sizing: border-box;\n",
              "  padding-bottom: 0.4em;\n",
              "  background-color: var(--sklearn-color-background);\n",
              "}\n",
              "\n",
              "#sk-container-id-1 div.sk-container {\n",
              "  /* jupyter's `normalize.less` sets `[hidden] { display: none; }`\n",
              "     but bootstrap.min.css set `[hidden] { display: none !important; }`\n",
              "     so we also need the `!important` here to be able to override the\n",
              "     default hidden behavior on the sphinx rendered scikit-learn.org.\n",
              "     See: https://github.com/scikit-learn/scikit-learn/issues/21755 */\n",
              "  display: inline-block !important;\n",
              "  position: relative;\n",
              "}\n",
              "\n",
              "#sk-container-id-1 div.sk-text-repr-fallback {\n",
              "  display: none;\n",
              "}\n",
              "\n",
              "div.sk-parallel-item,\n",
              "div.sk-serial,\n",
              "div.sk-item {\n",
              "  /* draw centered vertical line to link estimators */\n",
              "  background-image: linear-gradient(var(--sklearn-color-text-on-default-background), var(--sklearn-color-text-on-default-background));\n",
              "  background-size: 2px 100%;\n",
              "  background-repeat: no-repeat;\n",
              "  background-position: center center;\n",
              "}\n",
              "\n",
              "/* Parallel-specific style estimator block */\n",
              "\n",
              "#sk-container-id-1 div.sk-parallel-item::after {\n",
              "  content: \"\";\n",
              "  width: 100%;\n",
              "  border-bottom: 2px solid var(--sklearn-color-text-on-default-background);\n",
              "  flex-grow: 1;\n",
              "}\n",
              "\n",
              "#sk-container-id-1 div.sk-parallel {\n",
              "  display: flex;\n",
              "  align-items: stretch;\n",
              "  justify-content: center;\n",
              "  background-color: var(--sklearn-color-background);\n",
              "  position: relative;\n",
              "}\n",
              "\n",
              "#sk-container-id-1 div.sk-parallel-item {\n",
              "  display: flex;\n",
              "  flex-direction: column;\n",
              "}\n",
              "\n",
              "#sk-container-id-1 div.sk-parallel-item:first-child::after {\n",
              "  align-self: flex-end;\n",
              "  width: 50%;\n",
              "}\n",
              "\n",
              "#sk-container-id-1 div.sk-parallel-item:last-child::after {\n",
              "  align-self: flex-start;\n",
              "  width: 50%;\n",
              "}\n",
              "\n",
              "#sk-container-id-1 div.sk-parallel-item:only-child::after {\n",
              "  width: 0;\n",
              "}\n",
              "\n",
              "/* Serial-specific style estimator block */\n",
              "\n",
              "#sk-container-id-1 div.sk-serial {\n",
              "  display: flex;\n",
              "  flex-direction: column;\n",
              "  align-items: center;\n",
              "  background-color: var(--sklearn-color-background);\n",
              "  padding-right: 1em;\n",
              "  padding-left: 1em;\n",
              "}\n",
              "\n",
              "\n",
              "/* Toggleable style: style used for estimator/Pipeline/ColumnTransformer box that is\n",
              "clickable and can be expanded/collapsed.\n",
              "- Pipeline and ColumnTransformer use this feature and define the default style\n",
              "- Estimators will overwrite some part of the style using the `sk-estimator` class\n",
              "*/\n",
              "\n",
              "/* Pipeline and ColumnTransformer style (default) */\n",
              "\n",
              "#sk-container-id-1 div.sk-toggleable {\n",
              "  /* Default theme specific background. It is overwritten whether we have a\n",
              "  specific estimator or a Pipeline/ColumnTransformer */\n",
              "  background-color: var(--sklearn-color-background);\n",
              "}\n",
              "\n",
              "/* Toggleable label */\n",
              "#sk-container-id-1 label.sk-toggleable__label {\n",
              "  cursor: pointer;\n",
              "  display: flex;\n",
              "  width: 100%;\n",
              "  margin-bottom: 0;\n",
              "  padding: 0.5em;\n",
              "  box-sizing: border-box;\n",
              "  text-align: center;\n",
              "  align-items: start;\n",
              "  justify-content: space-between;\n",
              "  gap: 0.5em;\n",
              "}\n",
              "\n",
              "#sk-container-id-1 label.sk-toggleable__label .caption {\n",
              "  font-size: 0.6rem;\n",
              "  font-weight: lighter;\n",
              "  color: var(--sklearn-color-text-muted);\n",
              "}\n",
              "\n",
              "#sk-container-id-1 label.sk-toggleable__label-arrow:before {\n",
              "  /* Arrow on the left of the label */\n",
              "  content: \"▸\";\n",
              "  float: left;\n",
              "  margin-right: 0.25em;\n",
              "  color: var(--sklearn-color-icon);\n",
              "}\n",
              "\n",
              "#sk-container-id-1 label.sk-toggleable__label-arrow:hover:before {\n",
              "  color: var(--sklearn-color-text);\n",
              "}\n",
              "\n",
              "/* Toggleable content - dropdown */\n",
              "\n",
              "#sk-container-id-1 div.sk-toggleable__content {\n",
              "  max-height: 0;\n",
              "  max-width: 0;\n",
              "  overflow: hidden;\n",
              "  text-align: left;\n",
              "  /* unfitted */\n",
              "  background-color: var(--sklearn-color-unfitted-level-0);\n",
              "}\n",
              "\n",
              "#sk-container-id-1 div.sk-toggleable__content.fitted {\n",
              "  /* fitted */\n",
              "  background-color: var(--sklearn-color-fitted-level-0);\n",
              "}\n",
              "\n",
              "#sk-container-id-1 div.sk-toggleable__content pre {\n",
              "  margin: 0.2em;\n",
              "  border-radius: 0.25em;\n",
              "  color: var(--sklearn-color-text);\n",
              "  /* unfitted */\n",
              "  background-color: var(--sklearn-color-unfitted-level-0);\n",
              "}\n",
              "\n",
              "#sk-container-id-1 div.sk-toggleable__content.fitted pre {\n",
              "  /* unfitted */\n",
              "  background-color: var(--sklearn-color-fitted-level-0);\n",
              "}\n",
              "\n",
              "#sk-container-id-1 input.sk-toggleable__control:checked~div.sk-toggleable__content {\n",
              "  /* Expand drop-down */\n",
              "  max-height: 200px;\n",
              "  max-width: 100%;\n",
              "  overflow: auto;\n",
              "}\n",
              "\n",
              "#sk-container-id-1 input.sk-toggleable__control:checked~label.sk-toggleable__label-arrow:before {\n",
              "  content: \"▾\";\n",
              "}\n",
              "\n",
              "/* Pipeline/ColumnTransformer-specific style */\n",
              "\n",
              "#sk-container-id-1 div.sk-label input.sk-toggleable__control:checked~label.sk-toggleable__label {\n",
              "  color: var(--sklearn-color-text);\n",
              "  background-color: var(--sklearn-color-unfitted-level-2);\n",
              "}\n",
              "\n",
              "#sk-container-id-1 div.sk-label.fitted input.sk-toggleable__control:checked~label.sk-toggleable__label {\n",
              "  background-color: var(--sklearn-color-fitted-level-2);\n",
              "}\n",
              "\n",
              "/* Estimator-specific style */\n",
              "\n",
              "/* Colorize estimator box */\n",
              "#sk-container-id-1 div.sk-estimator input.sk-toggleable__control:checked~label.sk-toggleable__label {\n",
              "  /* unfitted */\n",
              "  background-color: var(--sklearn-color-unfitted-level-2);\n",
              "}\n",
              "\n",
              "#sk-container-id-1 div.sk-estimator.fitted input.sk-toggleable__control:checked~label.sk-toggleable__label {\n",
              "  /* fitted */\n",
              "  background-color: var(--sklearn-color-fitted-level-2);\n",
              "}\n",
              "\n",
              "#sk-container-id-1 div.sk-label label.sk-toggleable__label,\n",
              "#sk-container-id-1 div.sk-label label {\n",
              "  /* The background is the default theme color */\n",
              "  color: var(--sklearn-color-text-on-default-background);\n",
              "}\n",
              "\n",
              "/* On hover, darken the color of the background */\n",
              "#sk-container-id-1 div.sk-label:hover label.sk-toggleable__label {\n",
              "  color: var(--sklearn-color-text);\n",
              "  background-color: var(--sklearn-color-unfitted-level-2);\n",
              "}\n",
              "\n",
              "/* Label box, darken color on hover, fitted */\n",
              "#sk-container-id-1 div.sk-label.fitted:hover label.sk-toggleable__label.fitted {\n",
              "  color: var(--sklearn-color-text);\n",
              "  background-color: var(--sklearn-color-fitted-level-2);\n",
              "}\n",
              "\n",
              "/* Estimator label */\n",
              "\n",
              "#sk-container-id-1 div.sk-label label {\n",
              "  font-family: monospace;\n",
              "  font-weight: bold;\n",
              "  display: inline-block;\n",
              "  line-height: 1.2em;\n",
              "}\n",
              "\n",
              "#sk-container-id-1 div.sk-label-container {\n",
              "  text-align: center;\n",
              "}\n",
              "\n",
              "/* Estimator-specific */\n",
              "#sk-container-id-1 div.sk-estimator {\n",
              "  font-family: monospace;\n",
              "  border: 1px dotted var(--sklearn-color-border-box);\n",
              "  border-radius: 0.25em;\n",
              "  box-sizing: border-box;\n",
              "  margin-bottom: 0.5em;\n",
              "  /* unfitted */\n",
              "  background-color: var(--sklearn-color-unfitted-level-0);\n",
              "}\n",
              "\n",
              "#sk-container-id-1 div.sk-estimator.fitted {\n",
              "  /* fitted */\n",
              "  background-color: var(--sklearn-color-fitted-level-0);\n",
              "}\n",
              "\n",
              "/* on hover */\n",
              "#sk-container-id-1 div.sk-estimator:hover {\n",
              "  /* unfitted */\n",
              "  background-color: var(--sklearn-color-unfitted-level-2);\n",
              "}\n",
              "\n",
              "#sk-container-id-1 div.sk-estimator.fitted:hover {\n",
              "  /* fitted */\n",
              "  background-color: var(--sklearn-color-fitted-level-2);\n",
              "}\n",
              "\n",
              "/* Specification for estimator info (e.g. \"i\" and \"?\") */\n",
              "\n",
              "/* Common style for \"i\" and \"?\" */\n",
              "\n",
              ".sk-estimator-doc-link,\n",
              "a:link.sk-estimator-doc-link,\n",
              "a:visited.sk-estimator-doc-link {\n",
              "  float: right;\n",
              "  font-size: smaller;\n",
              "  line-height: 1em;\n",
              "  font-family: monospace;\n",
              "  background-color: var(--sklearn-color-background);\n",
              "  border-radius: 1em;\n",
              "  height: 1em;\n",
              "  width: 1em;\n",
              "  text-decoration: none !important;\n",
              "  margin-left: 0.5em;\n",
              "  text-align: center;\n",
              "  /* unfitted */\n",
              "  border: var(--sklearn-color-unfitted-level-1) 1pt solid;\n",
              "  color: var(--sklearn-color-unfitted-level-1);\n",
              "}\n",
              "\n",
              ".sk-estimator-doc-link.fitted,\n",
              "a:link.sk-estimator-doc-link.fitted,\n",
              "a:visited.sk-estimator-doc-link.fitted {\n",
              "  /* fitted */\n",
              "  border: var(--sklearn-color-fitted-level-1) 1pt solid;\n",
              "  color: var(--sklearn-color-fitted-level-1);\n",
              "}\n",
              "\n",
              "/* On hover */\n",
              "div.sk-estimator:hover .sk-estimator-doc-link:hover,\n",
              ".sk-estimator-doc-link:hover,\n",
              "div.sk-label-container:hover .sk-estimator-doc-link:hover,\n",
              ".sk-estimator-doc-link:hover {\n",
              "  /* unfitted */\n",
              "  background-color: var(--sklearn-color-unfitted-level-3);\n",
              "  color: var(--sklearn-color-background);\n",
              "  text-decoration: none;\n",
              "}\n",
              "\n",
              "div.sk-estimator.fitted:hover .sk-estimator-doc-link.fitted:hover,\n",
              ".sk-estimator-doc-link.fitted:hover,\n",
              "div.sk-label-container:hover .sk-estimator-doc-link.fitted:hover,\n",
              ".sk-estimator-doc-link.fitted:hover {\n",
              "  /* fitted */\n",
              "  background-color: var(--sklearn-color-fitted-level-3);\n",
              "  color: var(--sklearn-color-background);\n",
              "  text-decoration: none;\n",
              "}\n",
              "\n",
              "/* Span, style for the box shown on hovering the info icon */\n",
              ".sk-estimator-doc-link span {\n",
              "  display: none;\n",
              "  z-index: 9999;\n",
              "  position: relative;\n",
              "  font-weight: normal;\n",
              "  right: .2ex;\n",
              "  padding: .5ex;\n",
              "  margin: .5ex;\n",
              "  width: min-content;\n",
              "  min-width: 20ex;\n",
              "  max-width: 50ex;\n",
              "  color: var(--sklearn-color-text);\n",
              "  box-shadow: 2pt 2pt 4pt #999;\n",
              "  /* unfitted */\n",
              "  background: var(--sklearn-color-unfitted-level-0);\n",
              "  border: .5pt solid var(--sklearn-color-unfitted-level-3);\n",
              "}\n",
              "\n",
              ".sk-estimator-doc-link.fitted span {\n",
              "  /* fitted */\n",
              "  background: var(--sklearn-color-fitted-level-0);\n",
              "  border: var(--sklearn-color-fitted-level-3);\n",
              "}\n",
              "\n",
              ".sk-estimator-doc-link:hover span {\n",
              "  display: block;\n",
              "}\n",
              "\n",
              "/* \"?\"-specific style due to the `<a>` HTML tag */\n",
              "\n",
              "#sk-container-id-1 a.estimator_doc_link {\n",
              "  float: right;\n",
              "  font-size: 1rem;\n",
              "  line-height: 1em;\n",
              "  font-family: monospace;\n",
              "  background-color: var(--sklearn-color-background);\n",
              "  border-radius: 1rem;\n",
              "  height: 1rem;\n",
              "  width: 1rem;\n",
              "  text-decoration: none;\n",
              "  /* unfitted */\n",
              "  color: var(--sklearn-color-unfitted-level-1);\n",
              "  border: var(--sklearn-color-unfitted-level-1) 1pt solid;\n",
              "}\n",
              "\n",
              "#sk-container-id-1 a.estimator_doc_link.fitted {\n",
              "  /* fitted */\n",
              "  border: var(--sklearn-color-fitted-level-1) 1pt solid;\n",
              "  color: var(--sklearn-color-fitted-level-1);\n",
              "}\n",
              "\n",
              "/* On hover */\n",
              "#sk-container-id-1 a.estimator_doc_link:hover {\n",
              "  /* unfitted */\n",
              "  background-color: var(--sklearn-color-unfitted-level-3);\n",
              "  color: var(--sklearn-color-background);\n",
              "  text-decoration: none;\n",
              "}\n",
              "\n",
              "#sk-container-id-1 a.estimator_doc_link.fitted:hover {\n",
              "  /* fitted */\n",
              "  background-color: var(--sklearn-color-fitted-level-3);\n",
              "}\n",
              "</style><div id=\"sk-container-id-1\" class=\"sk-top-container\"><div class=\"sk-text-repr-fallback\"><pre>MultiOutputRegressor(estimator=RandomForestRegressor(random_state=42))</pre><b>In a Jupyter environment, please rerun this cell to show the HTML representation or trust the notebook. <br />On GitHub, the HTML representation is unable to render, please try loading this page with nbviewer.org.</b></div><div class=\"sk-container\" hidden><div class=\"sk-item sk-dashed-wrapped\"><div class=\"sk-label-container\"><div class=\"sk-label fitted sk-toggleable\"><input class=\"sk-toggleable__control sk-hidden--visually\" id=\"sk-estimator-id-1\" type=\"checkbox\" ><label for=\"sk-estimator-id-1\" class=\"sk-toggleable__label fitted sk-toggleable__label-arrow\"><div><div>MultiOutputRegressor</div></div><div><a class=\"sk-estimator-doc-link fitted\" rel=\"noreferrer\" target=\"_blank\" href=\"https://scikit-learn.org/1.6/modules/generated/sklearn.multioutput.MultiOutputRegressor.html\">?<span>Documentation for MultiOutputRegressor</span></a><span class=\"sk-estimator-doc-link fitted\">i<span>Fitted</span></span></div></label><div class=\"sk-toggleable__content fitted\"><pre>MultiOutputRegressor(estimator=RandomForestRegressor(random_state=42))</pre></div> </div></div><div class=\"sk-parallel\"><div class=\"sk-parallel-item\"><div class=\"sk-item\"><div class=\"sk-label-container\"><div class=\"sk-label fitted sk-toggleable\"><input class=\"sk-toggleable__control sk-hidden--visually\" id=\"sk-estimator-id-2\" type=\"checkbox\" ><label for=\"sk-estimator-id-2\" class=\"sk-toggleable__label fitted sk-toggleable__label-arrow\"><div><div>estimator: RandomForestRegressor</div></div></label><div class=\"sk-toggleable__content fitted\"><pre>RandomForestRegressor(random_state=42)</pre></div> </div></div><div class=\"sk-serial\"><div class=\"sk-item\"><div class=\"sk-estimator fitted sk-toggleable\"><input class=\"sk-toggleable__control sk-hidden--visually\" id=\"sk-estimator-id-3\" type=\"checkbox\" ><label for=\"sk-estimator-id-3\" class=\"sk-toggleable__label fitted sk-toggleable__label-arrow\"><div><div>RandomForestRegressor</div></div><div><a class=\"sk-estimator-doc-link fitted\" rel=\"noreferrer\" target=\"_blank\" href=\"https://scikit-learn.org/1.6/modules/generated/sklearn.ensemble.RandomForestRegressor.html\">?<span>Documentation for RandomForestRegressor</span></a></div></label><div class=\"sk-toggleable__content fitted\"><pre>RandomForestRegressor(random_state=42)</pre></div> </div></div></div></div></div></div></div></div></div>"
            ]
          },
          "metadata": {},
          "execution_count": 51
        }
      ]
    },
    {
      "cell_type": "code",
      "source": [
        "# Prediksi di data test\n",
        "y_pred = model.predict(X_test)\n",
        "\n",
        "# Evaluasi model per hari prediksi\n",
        "print(\"📊 Evaluasi Model (per hari):\")\n",
        "for i in range(forecast_horizon):\n",
        "    mae = mean_absolute_error(y_test[:, i], y_pred[:, i])\n",
        "    rmse = np.sqrt(mean_squared_error(y_test[:, i], y_pred[:, i]))  # dihitung di dalam loop\n",
        "    r2 = r2_score(y_test[:, i], y_pred[:, i])\n",
        "    print(f\"Hari ke-{i+1}: MAE={mae:.4f}, RMSE={rmse:.4f}, R2={r2:.4f}\")\n"
      ],
      "metadata": {
        "colab": {
          "base_uri": "https://localhost:8080/"
        },
        "id": "njFpq_RdMNb_",
        "outputId": "89eaa645-fbe6-4ab7-bb7f-6d7d5deda848"
      },
      "execution_count": 52,
      "outputs": [
        {
          "output_type": "stream",
          "name": "stdout",
          "text": [
            "📊 Evaluasi Model (per hari):\n",
            "Hari ke-1: MAE=0.0442, RMSE=0.1131, R2=0.0173\n",
            "Hari ke-2: MAE=0.0519, RMSE=0.1108, R2=-0.9062\n",
            "Hari ke-3: MAE=0.0480, RMSE=0.1135, R2=0.0345\n",
            "Hari ke-4: MAE=0.0370, RMSE=0.0716, R2=-0.6928\n",
            "Hari ke-5: MAE=0.0430, RMSE=0.1221, R2=0.0517\n",
            "Hari ke-6: MAE=0.0435, RMSE=0.0983, R2=-0.1619\n",
            "Hari ke-7: MAE=0.0365, RMSE=0.0704, R2=-0.2790\n"
          ]
        }
      ]
    },
    {
      "cell_type": "code",
      "source": [
        "# ==== Fungsi prediksi dan notifikasi ====\n",
        "\n",
        "def predict_and_notify(last_window, mean_expense, std_expense):\n",
        "    \"\"\"\n",
        "    last_window: array shape (window_size, features), input data terakhir dari user\n",
        "    mean_expense, std_expense: untuk de-normalisasi hasil prediksi\n",
        "    \"\"\"\n",
        "    x_input = last_window.reshape(1, window_size * n_features)\n",
        "    pred_norm = model.predict(x_input).flatten()  # shape (7,)\n",
        "    # De-normalisasi prediksi (kembalikan ke nominal)\n",
        "    pred_nominal = pred_norm * std_expense + mean_expense\n",
        "\n",
        "    # Hitung persentase perubahan dari rata-rata window terakhir\n",
        "    avg_window_nominal = (last_window[:, selected_features.index(\"Normalized_Expense\")] * std_expense + mean_expense).mean()\n",
        "    notif = []\n",
        "    for i, val in enumerate(pred_nominal):\n",
        "        pct_change = ((val - avg_window_nominal) / avg_window_nominal) * 100\n",
        "        status = \"naik\" if pct_change > 0 else \"turun\" if pct_change < 0 else \"tetap\"\n",
        "        notif.append(\n",
        "            f\"{(datetime.date.today() + datetime.timedelta(days=i+1)).strftime('%A, %d %B %Y')}: \"\n",
        "            f\"Rp{val:,.0f} ({status} {abs(pct_change):.1f}%)\"\n",
        "        )\n",
        "    return notif\n"
      ],
      "metadata": {
        "id": "QsEI_jE6B0Di"
      },
      "execution_count": 53,
      "outputs": []
    },
    {
      "cell_type": "code",
      "source": [
        "# ==== Contoh penggunaan fungsi ====\n",
        "last_window_data = daily_expense[selected_features].iloc[-window_size:].values\n",
        "\n",
        "mean_expense = 0.028155154287826802  # mean dari data original\n",
        "std_expense = 0.08931599618280038    # std dev dari data original\n",
        "\n",
        "# Denormalisasi hasil prediksi\n",
        "denorm_pred = y_pred[0] * std_expense + mean_expense\n",
        "\n",
        "import datetime\n",
        "\n",
        "hari_ini = datetime.date.today()\n",
        "prev = mean_expense * std_expense + mean_expense  # asumsi hari ke-0 = rata-rata historis\n",
        "\n",
        "print(\"📅 Prediksi Pengeluaran Nominal dan Persentase Perubahan:\")\n",
        "\n",
        "# Simpan semua nominal untuk kalkulasi mingguan\n",
        "weekly_nominals = []\n",
        "\n",
        "for i in range(forecast_horizon):\n",
        "    tanggal = hari_ini + datetime.timedelta(days=i+1)\n",
        "    nominal = denorm_pred[i]\n",
        "    nominal_rp = int(nominal * 1_000_000)  # konversi ke rupiah\n",
        "\n",
        "    # Hitung perubahan persen dari hari sebelumnya\n",
        "    change_pct = ((nominal - prev) / prev) * 100 if prev != 0 else 0\n",
        "    arah = \"naik\" if change_pct >= 0 else \"turun\"\n",
        "\n",
        "    print(f\"{tanggal.strftime('%A, %d %B %Y')}: Rp{nominal_rp:,} ({arah} {abs(change_pct):.1f}%)\")\n",
        "\n",
        "    prev = nominal\n",
        "    weekly_nominals.append(nominal)\n",
        "\n",
        "# Hitung total dan persentase kenaikan selama 7 hari\n",
        "total_awal = weekly_nominals[0]\n",
        "total_akhir = weekly_nominals[-1]\n",
        "kenaikan_total = total_akhir - total_awal\n",
        "kenaikan_persen = (kenaikan_total / total_awal) * 100 if total_awal != 0 else 0\n",
        "\n",
        "print(\"\\n📈 Total Perubahan Mingguan:\")\n",
        "print(f\"Total kenaikan nominal: Rp{int(kenaikan_total * 1_000_000):,}\")\n",
        "print(f\"Persentase kenaikan: {kenaikan_persen:.2f}%\")\n"
      ],
      "metadata": {
        "colab": {
          "base_uri": "https://localhost:8080/"
        },
        "id": "9to_wsXFNUjQ",
        "outputId": "7eed68af-fc94-4d83-bbe5-9f4bf188e948"
      },
      "execution_count": 54,
      "outputs": [
        {
          "output_type": "stream",
          "name": "stdout",
          "text": [
            "📅 Prediksi Pengeluaran Nominal dan Persentase Perubahan:\n",
            "Monday, 02 June 2025: Rp33,075 (naik 7.8%)\n",
            "Tuesday, 03 June 2025: Rp29,496 (turun 10.8%)\n",
            "Wednesday, 04 June 2025: Rp28,849 (turun 2.2%)\n",
            "Thursday, 05 June 2025: Rp30,354 (naik 5.2%)\n",
            "Friday, 06 June 2025: Rp29,491 (turun 2.8%)\n",
            "Saturday, 07 June 2025: Rp29,488 (turun 0.0%)\n",
            "Sunday, 08 June 2025: Rp30,029 (naik 1.8%)\n",
            "\n",
            "📈 Total Perubahan Mingguan:\n",
            "Total kenaikan nominal: Rp-3,046\n",
            "Persentase kenaikan: -9.21%\n"
          ]
        }
      ]
    },
    {
      "cell_type": "code",
      "source": [
        "# Hitung rata-rata pengeluaran 14 hari terakhir (sebagai pembanding)\n",
        "mean_last_14_days = np.mean(daily_expense[\"Normalized_Expense\"].iloc[-window_size:])\n",
        "\n",
        "# Hitung rata-rata prediksi 7 hari ke depan\n",
        "mean_next_7_days = np.mean(y_pred[0])  # Ambil baris pertama (prediksi paling baru)\n",
        "\n",
        "# Hitung rasio\n",
        "ratio = mean_next_7_days / mean_last_14_days\n",
        "\n",
        "# Klasifikasi\n",
        "if ratio > 1.1:\n",
        "    status = \"🔴 Boros\"\n",
        "elif ratio < 0.9:\n",
        "    status = \"🟢 Hemat\"\n",
        "else:\n",
        "    status = \"🟡 Balance\"\n",
        "\n",
        "# Tampilkan notifikasi\n",
        "print(\"\\n📢 Notifikasi Kategori Perilaku Pengeluaran:\")\n",
        "print(f\"Prediksi minggu depan tergolong: **{status}**\")\n",
        "print(f\"(Rata-rata pengeluaran diprediksi {'naik' if ratio > 1 else 'turun'} sebesar {abs((ratio - 1) * 100):.1f}%) dibanding 14 hari sebelumnya)\")\n"
      ],
      "metadata": {
        "colab": {
          "base_uri": "https://localhost:8080/"
        },
        "id": "z3K-r1sVdqH4",
        "outputId": "09ac4f95-0b65-4b21-d5d3-c5db11eb521f"
      },
      "execution_count": 55,
      "outputs": [
        {
          "output_type": "stream",
          "name": "stdout",
          "text": [
            "\n",
            "📢 Notifikasi Kategori Perilaku Pengeluaran:\n",
            "Prediksi minggu depan tergolong: **🔴 Boros**\n",
            "(Rata-rata pengeluaran diprediksi naik sebesar 95.2%) dibanding 14 hari sebelumnya)\n"
          ]
        }
      ]
    },
    {
      "cell_type": "code",
      "source": [
        "# prediksi\n",
        "joblib.dump(model, 'model_prediksi_regresi.pkl')\n"
      ],
      "metadata": {
        "colab": {
          "base_uri": "https://localhost:8080/"
        },
        "id": "x7Tu3wZwo4KQ",
        "outputId": "b1c1f5c6-a5ac-4930-f4e2-adac2d628bf4"
      },
      "execution_count": 56,
      "outputs": [
        {
          "output_type": "execute_result",
          "data": {
            "text/plain": [
              "['model_prediksi_regresi.pkl']"
            ]
          },
          "metadata": {},
          "execution_count": 56
        }
      ]
    },
    {
      "cell_type": "code",
      "source": [
        "# Simpan StandardScaler, Imputer, objek penting lainnya\n",
        "joblib.dump(imp, 'imputer.pkl')\n",
        "joblib.dump(scaler, 'scaler.pkl')\n"
      ],
      "metadata": {
        "colab": {
          "base_uri": "https://localhost:8080/"
        },
        "id": "R9AyyRNOo9zo",
        "outputId": "c5cffb22-c088-4e53-bd98-671dfd5f3dd8"
      },
      "execution_count": 57,
      "outputs": [
        {
          "output_type": "execute_result",
          "data": {
            "text/plain": [
              "['scaler.pkl']"
            ]
          },
          "metadata": {},
          "execution_count": 57
        }
      ]
    },
    {
      "cell_type": "code",
      "source": [
        "import zipfile\n",
        "import os\n",
        "\n",
        "files_to_zip = [\n",
        "    'model_klasifikasi_xgb.pkl',\n",
        "    'model_prediksi_regresi.pkl',\n",
        "    'label_encoder.pkl',\n",
        "    'scaler.pkl'\n",
        "    'imputer.pkl',  # kalau kamu simpan imputernya\n",
        "    'requirements.txt'\n",
        "]\n",
        "\n",
        "# --- 2. Nama file zip yang ingin dibuat ---\n",
        "zip_filename = 'model_harian.zip'\n",
        "\n",
        "# --- 3. Buat file zip ---\n",
        "with zipfile.ZipFile(zip_filename, 'w') as zipf:\n",
        "    for file in files_to_zip:\n",
        "        if os.path.exists(file):\n",
        "            zipf.write(file)\n",
        "        else:\n",
        "            print(f\"⚠️ File tidak ditemukan dan tidak dimasukkan ke zip: {file}\")\n",
        "\n",
        "# --- 4. Download zip ke komputer lokal ---\n",
        "from google.colab import files\n",
        "files.download(zip_filename)\n"
      ],
      "metadata": {
        "colab": {
          "base_uri": "https://localhost:8080/",
          "height": 53
        },
        "id": "qnNW3cldp2nN",
        "outputId": "a5278590-2951-402d-f0fb-f1fcd0b641c4"
      },
      "execution_count": 58,
      "outputs": [
        {
          "output_type": "stream",
          "name": "stdout",
          "text": [
            "⚠️ File tidak ditemukan dan tidak dimasukkan ke zip: scaler.pklimputer.pkl\n",
            "⚠️ File tidak ditemukan dan tidak dimasukkan ke zip: requirements.txt\n"
          ]
        },
        {
          "output_type": "display_data",
          "data": {
            "text/plain": [
              "<IPython.core.display.Javascript object>"
            ],
            "application/javascript": [
              "\n",
              "    async function download(id, filename, size) {\n",
              "      if (!google.colab.kernel.accessAllowed) {\n",
              "        return;\n",
              "      }\n",
              "      const div = document.createElement('div');\n",
              "      const label = document.createElement('label');\n",
              "      label.textContent = `Downloading \"${filename}\": `;\n",
              "      div.appendChild(label);\n",
              "      const progress = document.createElement('progress');\n",
              "      progress.max = size;\n",
              "      div.appendChild(progress);\n",
              "      document.body.appendChild(div);\n",
              "\n",
              "      const buffers = [];\n",
              "      let downloaded = 0;\n",
              "\n",
              "      const channel = await google.colab.kernel.comms.open(id);\n",
              "      // Send a message to notify the kernel that we're ready.\n",
              "      channel.send({})\n",
              "\n",
              "      for await (const message of channel.messages) {\n",
              "        // Send a message to notify the kernel that we're ready.\n",
              "        channel.send({})\n",
              "        if (message.buffers) {\n",
              "          for (const buffer of message.buffers) {\n",
              "            buffers.push(buffer);\n",
              "            downloaded += buffer.byteLength;\n",
              "            progress.value = downloaded;\n",
              "          }\n",
              "        }\n",
              "      }\n",
              "      const blob = new Blob(buffers, {type: 'application/binary'});\n",
              "      const a = document.createElement('a');\n",
              "      a.href = window.URL.createObjectURL(blob);\n",
              "      a.download = filename;\n",
              "      div.appendChild(a);\n",
              "      a.click();\n",
              "      div.remove();\n",
              "    }\n",
              "  "
            ]
          },
          "metadata": {}
        },
        {
          "output_type": "display_data",
          "data": {
            "text/plain": [
              "<IPython.core.display.Javascript object>"
            ],
            "application/javascript": [
              "download(\"download_44248b8e-4558-456a-8a52-e0594c4c3ac6\", \"model_harian.zip\", 23399854)"
            ]
          },
          "metadata": {}
        }
      ]
    }
  ],
  "metadata": {
    "colab": {
      "provenance": []
    },
    "kernelspec": {
      "display_name": "Python 3",
      "name": "python3"
    },
    "language_info": {
      "name": "python"
    }
  },
  "nbformat": 4,
  "nbformat_minor": 0
}
